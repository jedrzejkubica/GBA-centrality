{
 "cells": [
  {
   "cell_type": "markdown",
   "metadata": {},
   "source": [
    "## This is a notebook for the validation of GBA-centrality-PR\n",
    "\n",
    "It consists of four parts:\n",
    "- **Part I: Leave-one-out validation**\n",
    "\n",
    "    This is a comparison between the distribution of scores for left-out proteins with the distribution of scores for all proteins in the interactome. We compare the two distributions using a statistical test (Wilcoxon rank-sum) and calculate the p-value.\n",
    "\n",
    "- **Part II: Tissue-enrichment validation**\n",
    "\n",
    "    This is a comparison between the ratio of predicted causal proteins enriched in the tissue with the ratio of all proteins enriched in the tissue. We compare the two ratio using a statistical test (Fisher exact) and calculate the p-value to answer the question: \"Are predicted causal genes significantly enriched in the tissue-specific genes?\".\n",
    "\n",
    "- **Part III: Robustness**\n",
    "\n",
    "    This is a comparison between the lists of top 10% of highest-scoring genes generated with the new interactome (19/09/2024) vs the old interactome (15/01/2024). We hypothesize that the method is robust, therefore the two lists should be similar, even though the interactomes differ in the number of proteins and interactions. To determine the ovelap between the two lists, we compare then lists with a statistical test (Wilcoxon rank-sum) and calculate the p-value.\n",
    "\n",
    "- **Part IV: Benchmark against other centralities**\n",
    "\n",
    "- **Part V: Average distance between causal and predicted causal proteins**"
   ]
  },
  {
   "cell_type": "code",
   "execution_count": null,
   "metadata": {},
   "outputs": [],
   "source": [
    "import sys\n",
    "\n",
    "import scipy\n",
    "import numpy\n",
    "\n",
    "import networkx\n",
    "\n",
    "import matplotlib.pyplot\n",
    "import matplotlib_venn\n",
    "\n",
    "sys.path.append(\"../scripts\")\n",
    "import utils"
   ]
  },
  {
   "cell_type": "code",
   "execution_count": null,
   "metadata": {},
   "outputs": [],
   "source": [
    "def parse_scores(scores_file):\n",
    "    '''\n",
    "    Loads the scores generated with GBA_centrality_PR.py\n",
    "    Returns a dictionary: key=ENSG, value=score\n",
    "    '''\n",
    "    results = {}\n",
    " \n",
    "    with open(scores_file, 'r') as f:\n",
    "        # skip header\n",
    "        next(f)\n",
    "\n",
    "        data = f.read().splitlines()\n",
    "        for line in data:\n",
    "            line_splitted = line.split('\\t')\n",
    "            ENSG, gene, score = line_splitted\n",
    "\n",
    "            results[ENSG] = float(score)\n",
    "\n",
    "    return results"
   ]
  },
  {
   "cell_type": "code",
   "execution_count": null,
   "metadata": {},
   "outputs": [],
   "source": [
    "def parse_leave_one_out(leave_one_out_file):\n",
    "    '''\n",
    "    Loads the scores for left-out proteins generated with leave_one_out.py\n",
    "    Returns a dictionary: key=ENSG, value=score\n",
    "    '''\n",
    "    results_left_out = {}\n",
    "\n",
    "    with open(leave_one_out_file, 'r') as f:\n",
    "        # skip header\n",
    "        next(f)\n",
    "\n",
    "        data = f.read().splitlines()\n",
    "        for line in data:\n",
    "            line_splitted = line.split('\\t')\n",
    "            ENSG, gene, score = line_splitted\n",
    "            results_left_out[ENSG] = float(score)\n",
    "        \n",
    "    return results_left_out"
   ]
  },
  {
   "cell_type": "code",
   "execution_count": null,
   "metadata": {},
   "outputs": [],
   "source": [
    "def geneName_to_ENSG(genes_file):\n",
    "    '''\n",
    "    Loads a TSV file with columns: geneName\\tENSG\n",
    "    Returns a dictionary: key=geneName, value=ENSG\n",
    "    '''\n",
    "    genes = {}\n",
    "\n",
    "    f = open(genes_file, 'r')\n",
    "    \n",
    "    # skip header\n",
    "    next(f)\n",
    "\n",
    "    for line in f:\n",
    "        line_splitted = line.rstrip().split('\\t')\n",
    "        gene_name, ENSG = line_splitted\n",
    "\n",
    "        genes[gene_name] = ENSG\n",
    "    \n",
    "    return genes"
   ]
  },
  {
   "cell_type": "code",
   "execution_count": null,
   "metadata": {},
   "outputs": [],
   "source": [
    "def ENSG_to_geneName(genes_file):\n",
    "    '''\n",
    "    Loads a TSV file with columns: geneName\\tENSG\n",
    "    Returns a dictionary: key=ENSG, value=geneName\n",
    "    '''\n",
    "    ENSGs = {}\n",
    "\n",
    "    f = open(genes_file, 'r')\n",
    "    \n",
    "    # skip header\n",
    "    next(f)\n",
    "\n",
    "    for line in f:\n",
    "        line_splitted = line.rstrip().split('\\t')\n",
    "        gene_name, ENSG = line_splitted\n",
    "\n",
    "        ENSGs[ENSG] = gene_name\n",
    "    \n",
    "    return ENSGs"
   ]
  },
  {
   "cell_type": "code",
   "execution_count": null,
   "metadata": {},
   "outputs": [],
   "source": [
    "def parse_expression_data(expression_data, interactome):\n",
    "    '''\n",
    "    Loads a TSV file with columns: ENSG\\tgene_expression_ratio\n",
    "    Returns a dictionary: key=ENSG, value=gene_expression_ratio\n",
    "    '''\n",
    "    tissue_expression = {}\n",
    "\n",
    "    with open(expression_data) as f:\n",
    "        # skip header\n",
    "        for _ in range(5):\n",
    "            next(f)\n",
    "        for line in f:\n",
    "            split_line = line.rstrip().split('\\t')\n",
    "\n",
    "            ENSG, tissue_ratio, *_ = split_line\n",
    "\n",
    "            if ENSG in interactome.nodes():\n",
    "                tissue_expression[ENSG] = float(tissue_ratio)\n",
    "    \n",
    "    return tissue_expression"
   ]
  },
  {
   "cell_type": "code",
   "execution_count": null,
   "metadata": {},
   "outputs": [],
   "source": [
    "def intersection(list_1, list_2):\n",
    "    '''\n",
    "    Returns a list with common elements for two lists\n",
    "    '''\n",
    "    return list(set(list_1) & set(list_2))"
   ]
  },
  {
   "cell_type": "code",
   "execution_count": null,
   "metadata": {},
   "outputs": [],
   "source": [
    "def take_top_percent(list, x):\n",
    "    '''\n",
    "    Finds the top x% of values in a list\n",
    "    Returns: \n",
    "    - top: list with top x% of values\n",
    "    - rest list with the rest of values\n",
    "    '''\n",
    "    num_elements = int(len(list) * x/100)\n",
    "    num_elements = max(num_elements, 1)\n",
    "\n",
    "    top = list[:num_elements]\n",
    "    rest = list[num_elements:]\n",
    "    \n",
    "    return top, rest"
   ]
  },
  {
   "cell_type": "code",
   "execution_count": null,
   "metadata": {},
   "outputs": [],
   "source": [
    "def format_pvalue(pvalue):\n",
    "    # '''Returns the p-value in the notation: \"1.00e-2**\" '''\n",
    "    p = '{:.2e}'.format(pvalue)\n",
    "\n",
    "    if pvalue <= 0.0001:\n",
    "        return \"p < 10^-4****\"\n",
    "    elif pvalue <= 0.001:\n",
    "        return \"p < 10^-3***\"\n",
    "    elif pvalue <= 0.01:\n",
    "        return \"p < 0.01**\"\n",
    "    elif pvalue <= 0.05:\n",
    "        return \"p < 0.05*\"    \n",
    "    return f\"p = {p}\""
   ]
  },
  {
   "cell_type": "markdown",
   "metadata": {},
   "source": [
    "### Set parameters and paths"
   ]
  },
  {
   "cell_type": "code",
   "execution_count": null,
   "metadata": {},
   "outputs": [],
   "source": [
    "'''Set parameters with which the GBA_centrality_PR.py was run'''\n",
    "PHENOTYPE = \"MMAF\" # to choose from: MMAF, NOA, DILCARD, HYPCARD, BC (breast cancer), CC (colon cancer)\n",
    "ALPHA = 0.5\n",
    "alpha = str(ALPHA).replace('.', '')\n",
    "D_MAX = 10"
   ]
  },
  {
   "cell_type": "code",
   "execution_count": null,
   "metadata": {},
   "outputs": [],
   "source": [
    "INTERACTOME_PATH = \"../input/Interactome_human.sif\"\n",
    "CANONICAL_GENES_PATH = \"../input/canonicalGenes.tsv\"\n",
    "\n",
    "RESULTS_PATH = f\"../output/{PHENOTYPE}/alpha{alpha}_d{D_MAX}/scores.tsv\"\n",
    "LEAVE_ONE_OUT_PATH = f\"../output/{PHENOTYPE}/alpha{alpha}_d{D_MAX}/scores_leave_one_out.tsv\""
   ]
  },
  {
   "cell_type": "code",
   "execution_count": null,
   "metadata": {},
   "outputs": [],
   "source": [
    "'''Data and parameters for Part II: Tissue-enrichment validation'''\n",
    "PRED_CAUSAL_DEF = 10 # [%]\n",
    "TISSUE_ENRICHED_DEF = 10 # [%]\n",
    "\n",
    "TISSUE = \"testis\" # to choose from: testis, breast, colon, heart\n",
    "\n",
    "GTEX_DATA_PATH = f\"E-MTAB-5214-query-results-{TISSUE}-ratio.tpms.tsv\""
   ]
  },
  {
   "cell_type": "code",
   "execution_count": null,
   "metadata": {},
   "outputs": [],
   "source": [
    "'''Data and parameters for Part III: Robustness'''\n",
    "INTERACTOME_OLD_PATH = \"../input/Interactome_human_15012024.sif\"\n",
    "RESULTS_OLD_PATH = f\"../output/Interactome_human_15012024/{PHENOTYPE}/alpha{alpha}_d{D_MAX}/scores.tsv\""
   ]
  },
  {
   "cell_type": "code",
   "execution_count": null,
   "metadata": {},
   "outputs": [],
   "source": [
    "'''Data for Part IV: '''\n",
    "CAUSAL_GENES_PATH = \"/home/kubicaj/workspace/Interactome-TIMC/input/causalGenes_infertility.tsv\""
   ]
  },
  {
   "cell_type": "code",
   "execution_count": null,
   "metadata": {},
   "outputs": [],
   "source": [
    "'''Set path for output figures'''\n",
    "FIGURES_DIR = \"/home/kubicaj/workspace/Interactome-TIMC/dev/figures/\""
   ]
  },
  {
   "cell_type": "markdown",
   "metadata": {},
   "source": [
    "### Load data"
   ]
  },
  {
   "cell_type": "code",
   "execution_count": null,
   "metadata": {},
   "outputs": [],
   "source": [
    "'''Parse interactome'''\n",
    "interactome = utils.parse_interactome(interactome_file=INTERACTOME_PATH)\n",
    "print(f\"proteins: {len(interactome.nodes())}, interactions: {len(interactome.edges())}\")"
   ]
  },
  {
   "cell_type": "code",
   "execution_count": null,
   "metadata": {},
   "outputs": [],
   "source": [
    "(ENSG2gene, gene2ENSG) = utils.parse_gene2ENSG(gene2ENSG_file=CANONICAL_GENES_PATH)\n",
    "causal_genes = utils.parse_causal_genes(causal_genes_file=CAUSAL_GENES_PATH, gene2ENSG=gene2ENSG, interactome=interactome, patho=PHENOTYPE)"
   ]
  },
  {
   "cell_type": "code",
   "execution_count": null,
   "metadata": {},
   "outputs": [],
   "source": [
    "'''Load GBA centrality scores and leave-one-out results, then sort them by descending scores'''\n",
    "results = parse_scores(RESULTS_PATH)\n",
    "results_leave_one_out = parse_leave_one_out(LEAVE_ONE_OUT_PATH)\n",
    "\n",
    "# remove seed proteins from scores\n",
    "for gene in results_leave_one_out:\n",
    "    del results[gene]\n",
    "    \n",
    "results_sorted = sorted(results.keys(), key=lambda item: results[item], reverse=True)\n",
    "scores_sorted = [results[node] for node in results_sorted]\n",
    "\n",
    "results_leave_one_out_sorted = sorted(results_leave_one_out.keys(),\n",
    "                                      key=lambda item: results_leave_one_out[item],\n",
    "                                      reverse=True)\n",
    "scores_leave_one_out_sorted = [results_leave_one_out[node] for node in results_leave_one_out_sorted]"
   ]
  },
  {
   "cell_type": "code",
   "execution_count": null,
   "metadata": {},
   "outputs": [],
   "source": [
    "'''Load data for conversions between gene names and ENSGs'''\n",
    "ENSGs = ENSG_to_geneName(CANONICAL_GENES_PATH)\n",
    "gene_names = geneName_to_ENSG(CANONICAL_GENES_PATH)"
   ]
  },
  {
   "cell_type": "code",
   "execution_count": null,
   "metadata": {},
   "outputs": [],
   "source": [
    "'''Load tissue expression from grexome-TIMC-Secondary-interactome/GTEX_Data'''\n",
    "tissue_expr = parse_expression_data(GTEX_DATA_PATH, interactome=interactome)"
   ]
  },
  {
   "cell_type": "code",
   "execution_count": null,
   "metadata": {},
   "outputs": [],
   "source": [
    "'''Get top x high-scoring genes'''\n",
    "for gene in results_sorted[:15]:\n",
    "    print(ENSGs[gene])"
   ]
  },
  {
   "cell_type": "markdown",
   "metadata": {},
   "source": [
    "### Part I: Leave-one-out validation"
   ]
  },
  {
   "cell_type": "code",
   "execution_count": null,
   "metadata": {},
   "outputs": [],
   "source": [
    "'''Check if the distribution of scores for left-out proteins is greater than\n",
    "the distribution of scores for all proteins in the interactome'''\n",
    "_, p_leave_one_out = scipy.stats.ranksums(scores_leave_one_out_sorted, \n",
    "                                          scores_sorted, \n",
    "                                          alternative='greater')\n",
    "\n",
    "p_leave_one_out = format_pvalue(p_leave_one_out)\n",
    "print(f\"{p_leave_one_out}\")"
   ]
  },
  {
   "cell_type": "code",
   "execution_count": null,
   "metadata": {},
   "outputs": [],
   "source": [
    "fig, ax = matplotlib.pyplot.subplots()\n",
    "labels = [\"Proteins in interactome\\n(excluding causal)\", \"Left-out proteins\"]\n",
    "colors = [\"#6DA1E0\", \"#FF9776\"]\n",
    "\n",
    "\n",
    "plot = ax.boxplot([scores_sorted, scores_leave_one_out_sorted],\n",
    "                   widths=0.7,\n",
    "                   patch_artist=True,\n",
    "                   tick_labels=labels)\n",
    "\n",
    "# fill with colors\n",
    "for patch, color in zip(plot['boxes'], colors):\n",
    "    patch.set_facecolor(color)\n",
    "\n",
    "for median in plot['medians']:\n",
    "    median.set_color('black')\n",
    "\n",
    "matplotlib.pyplot.title(f\"Leave-one-out validation\\n{PHENOTYPE}\",\n",
    "                        weight='bold',\n",
    "                        fontsize=12)\n",
    "matplotlib.pyplot.ylabel(\"Score\")\n",
    "matplotlib.pyplot.xlabel(\"\")\n",
    "\n",
    "ylim = 0.015\n",
    "matplotlib.pyplot.ylim(0, ylim)\n",
    "matplotlib.pyplot.text(x=1.3,y=ylim*0.85, s=f\"{p_leave_one_out}\")\n",
    "\n",
    "#save figure for publication\n",
    "# matplotlib.pyplot.savefig(FIGURES_DIR + f\"{PHENOTYPE}_leave_one_out\", dpi=1000)"
   ]
  },
  {
   "cell_type": "markdown",
   "metadata": {},
   "source": [
    "### Part II: Tissue-enrichment validation"
   ]
  },
  {
   "cell_type": "code",
   "execution_count": null,
   "metadata": {},
   "outputs": [],
   "source": [
    "'''Get top x% of highest-scoring genes'''\n",
    "pred_causal, non_pred_causal = take_top_percent(results_sorted, PRED_CAUSAL_DEF)"
   ]
  },
  {
   "cell_type": "code",
   "execution_count": null,
   "metadata": {},
   "outputs": [],
   "source": [
    "'''Get top x% of genes expressed in the tissue'''\n",
    "tissue_expr_sorted = sorted(tissue_expr.keys(), key=lambda item: tissue_expr[item], reverse=True)\n",
    "tissue_enriched, non_tissue_enriched = take_top_percent(tissue_expr_sorted, TISSUE_ENRICHED_DEF)"
   ]
  },
  {
   "cell_type": "code",
   "execution_count": null,
   "metadata": {},
   "outputs": [],
   "source": [
    "len(results_sorted), len(tissue_expr_sorted)"
   ]
  },
  {
   "cell_type": "code",
   "execution_count": null,
   "metadata": {},
   "outputs": [],
   "source": [
    "'''Construct a contingency matrix for the statistical test'''\n",
    "x1 = len(intersection(pred_causal, tissue_enriched))\n",
    "x2 = len(intersection(non_pred_causal, tissue_enriched))\n",
    "x3 = len(intersection(pred_causal, non_tissue_enriched))\n",
    "x4 = len(intersection(non_pred_causal, non_tissue_enriched))\n",
    "\n",
    "contingency_matrix = [[x1, x2], [x3, x4]]\n",
    "\n",
    "# plot the contingency table\n",
    "fig, ax = matplotlib.pyplot.subplots()\n",
    "table = ax.table(contingency_matrix, \n",
    "                 rowLabels=[f'{TISSUE}', f'non-{TISSUE}'], \n",
    "                 colLabels=[f'pred {PHENOTYPE}', f'non-pred {PHENOTYPE}'], \n",
    "                 loc=\"center\")\n",
    "ax.axis('tight')\n",
    "ax.axis('off')\n",
    "table.set_fontsize(14)\n",
    "table.scale(1,2)"
   ]
  },
  {
   "cell_type": "code",
   "execution_count": null,
   "metadata": {},
   "outputs": [],
   "source": [
    "''' \n",
    "Check if the ratio of predicted causal proteins enriched in the tissue is greater \n",
    "than the ratio of all proteins enriched in the tissue\n",
    "\n",
    "Note: alternative='greater' is the probability that a random table has x >= a, \n",
    "where contingency_matrix = [[a, b], [c, d]]\n",
    "'''\n",
    "_, p_tissue_expr = scipy.stats.fisher_exact(contingency_matrix, alternative='greater')\n",
    "\n",
    "p_tissue_expr = format_pvalue(pvalue=p_tissue_expr)\n",
    "print(f\"{p_tissue_expr}\")"
   ]
  },
  {
   "cell_type": "code",
   "execution_count": null,
   "metadata": {},
   "outputs": [],
   "source": [
    "proportion1 = x1 / (x1 + x3) # ratio of predicted causal genes that are tissue-enriched\n",
    "proportion2 = x2 / (x2 + x4) # ratio of all genes that are tissue-enriched\n",
    "\n",
    "labels = [f\"Predicted causal proteins\\nthat are enriched in {TISSUE}\", \n",
    "          f\"All proteins that are enriched in {TISSUE}\"]\n",
    "\n",
    "matplotlib.pyplot.bar(x=labels, height=[proportion1, proportion2], color=['#853A22', '#112E51'])\n",
    "matplotlib.pyplot.title(f\"{TISSUE.capitalize()} enrichment analysis\\n of predicted {PHENOTYPE} proteins\\n({len(results_leave_one_out)} seed proteins)\", weight='bold', fontsize=12)\n",
    "\n",
    "# plot p-value\n",
    "h = .1 * max(proportion1, proportion2)\n",
    "y = max(proportion1, proportion2) + h\n",
    "\n",
    "matplotlib.pyplot.plot([labels[0], labels[0], labels[1], labels[1]], [y, y+h, y+h, y], lw=1, c='black')\n",
    "matplotlib.pyplot.text(x=0.35,y=y+2*h, s=f\"{p_tissue_expr}\")\n",
    "\n",
    "y_max = 2*max(proportion1, proportion2)\n",
    "matplotlib.pyplot.yticks(numpy.arange(0, y_max, 0.05))\n",
    "matplotlib.pyplot.ylabel(\"Ratio\")\n",
    "\n",
    "# matplotlib.pyplot.savefig(FIGURES_DIR + f\"{PHENOTYPE}_tissue_enrichment\", dpi=1000)"
   ]
  },
  {
   "cell_type": "markdown",
   "metadata": {},
   "source": [
    "### Part III: Robustness"
   ]
  },
  {
   "cell_type": "code",
   "execution_count": null,
   "metadata": {},
   "outputs": [],
   "source": [
    "'''Parse the old interactome'''\n",
    "interactome_old = utils.parse_interactome(interactome_file=INTERACTOME_OLD_PATH)\n",
    "print(f\"proteins: {len(interactome_old.nodes())}, interactions: {len(interactome_old.edges())}\")"
   ]
  },
  {
   "cell_type": "code",
   "execution_count": null,
   "metadata": {},
   "outputs": [],
   "source": [
    "'''Load GBA centrality scores for the old interactome, then sort them by descending scores'''\n",
    "results_old = parse_scores(RESULTS_OLD_PATH)\n",
    "\n",
    "results_old_sorted = sorted(results_old.keys(), key=lambda item: results_old[item], reverse=True)\n",
    "scores_old_sorted = [results_old[node] for node in results_old_sorted]"
   ]
  },
  {
   "cell_type": "code",
   "execution_count": null,
   "metadata": {},
   "outputs": [],
   "source": [
    "'''Get top x% of highest-scoring genes'''\n",
    "pred_causal_old, _ = take_top_percent(results_old_sorted, PRED_CAUSAL_DEF)"
   ]
  },
  {
   "cell_type": "code",
   "execution_count": null,
   "metadata": {},
   "outputs": [],
   "source": [
    "'''Determine the ovelap between the two lists with a statistical test (Wilcoxon rank-sum) and calculate the p-value'''\n",
    "_, p_overlap = scipy.stats.ranksums(pred_causal, pred_causal_old, alternative='two-sided')\n",
    "p_overlap = format_pvalue(pvalue=p_overlap)\n",
    "print(f\"p-value = {p_overlap}\")"
   ]
  },
  {
   "cell_type": "code",
   "execution_count": null,
   "metadata": {},
   "outputs": [],
   "source": [
    "x1 = len(pred_causal) - len(intersection(pred_causal, pred_causal_old))\n",
    "x2 = len(pred_causal_old) - len(intersection(pred_causal, pred_causal_old))\n",
    "x3 =  len(intersection(pred_causal, pred_causal_old))\n",
    "\n",
    "matplotlib_venn.venn2([x1, x2, x3], \n",
    "                      set_labels=(f\"New interactome:\\n{len(interactome.nodes())} proteins\\n{len(interactome.edges())} interactions\",\n",
    "                                  f\"Old interactome (15/01/2024):\\n{len(interactome_old.nodes())} proteins\\n{len(interactome_old.edges())} interactions\"),\n",
    "                      set_colors=(\"#4B636E\", \"#FF7043\"), alpha=0.85)\n",
    "matplotlib.pyplot.title(f\"Number of predicted {PHENOTYPE} proteins\", \n",
    "                        weight='bold',\n",
    "                        fontsize=12)\n",
    "# matplotlib.pyplot.savefig(FIGURES_DIR + f\"{PHENOTYPE}_robustness_causal{PRED_CAUSAL_DEF}perc\", dpi=1000)"
   ]
  },
  {
   "cell_type": "markdown",
   "metadata": {},
   "source": [
    "### Part IV: Benchmark against other centralities"
   ]
  },
  {
   "cell_type": "code",
   "execution_count": null,
   "metadata": {},
   "outputs": [],
   "source": [
    "'''Degree centrality'''\n",
    "degree = networkx.degree(interactome)\n",
    "\n",
    "# order scores and degrees as in results.keys()\n",
    "proteins = results.keys()\n",
    "scores = [results[node] for node in proteins]\n",
    "deg_c = [degree[node] for node in proteins]\n",
    "\n",
    "matplotlib.pyplot.scatter(x=scores, y=deg_c)\n",
    "matplotlib.pyplot.xlabel(\"GBA-centrality scores\")\n",
    "matplotlib.pyplot.ylabel(\"Degree\")\n",
    "# matplotlib.pyplot.savefig(FIGURES_DIR + f\"{PHENOTYPE}_degree_centrality\", dpi=1000)"
   ]
  },
  {
   "cell_type": "code",
   "execution_count": null,
   "metadata": {},
   "outputs": [],
   "source": [
    "'''Eigenvector centrality'''\n",
    "eigenvector_centrality = networkx.eigenvector_centrality_numpy(interactome)\n",
    "\n",
    "# order scores and degrees as in results.keys()\n",
    "proteins = results.keys()\n",
    "scores = [results[node] for node in proteins]\n",
    "eigenvec_c = [eigenvector_centrality[node] for node in proteins]\n",
    "\n",
    "matplotlib.pyplot.scatter(x=scores, y=eigenvec_c)\n",
    "matplotlib.pyplot.xlabel(\"GBA-centrality scores\")\n",
    "matplotlib.pyplot.ylabel(\"Eigenvector centrality\")\n",
    "# matplotlib.pyplot.savefig(FIGURES_DIR + f\"{PHENOTYPE}_eigenvector_centrality\", dpi=1000)"
   ]
  },
  {
   "cell_type": "code",
   "execution_count": null,
   "metadata": {},
   "outputs": [],
   "source": [
    "'''Betweenness centrality'''\n",
    "betweenness_centrality = networkx.betweenness_centrality(interactome)\n",
    "\n",
    "# order scores and degrees as in results.keys()\n",
    "proteins = results.keys()\n",
    "scores = [results[node] for node in proteins]\n",
    "between_c = [betweenness_centrality[node] for node in proteins]\n",
    "\n",
    "matplotlib.pyplot.scatter(x=scores, y=between_c)\n",
    "matplotlib.pyplot.xlabel(\"GBA-centrality scores\")\n",
    "matplotlib.pyplot.ylabel(\"Betweenness centrality\")\n",
    "# matplotlib.pyplot.savefig(FIGURES_DIR + f\"{PHENOTYPE}_betweenness_centrality\", dpi=1000)"
   ]
  },
  {
   "cell_type": "code",
   "execution_count": null,
   "metadata": {},
   "outputs": [],
   "source": [
    "'''Harmonic centrality'''\n",
    "harmonic_centrality = networkx.harmonic_centrality(interactome)\n",
    "\n",
    "# order scores and degrees as in results.keys()\n",
    "proteins = results.keys()\n",
    "scores = [results[node] for node in proteins]\n",
    "harmonic_c = [harmonic_centrality[node] for node in proteins]\n",
    "\n",
    "matplotlib.pyplot.scatter(x=scores, y=harmonic_c)\n",
    "matplotlib.pyplot.xlabel(\"GBA-centrality scores\")\n",
    "matplotlib.pyplot.ylabel(\"Harmonic centrality\")\n",
    "# matplotlib.pyplot.savefig(FIGURES_DIR + f\"{PHENOTYPE}_harmonic_centrality\", dpi=1000)"
   ]
  },
  {
   "cell_type": "code",
   "execution_count": null,
   "metadata": {},
   "outputs": [],
   "source": [
    "'''Katz centrality, alpha=0.5'''\n",
    "beta = dict.fromkeys(interactome.nodes(), 0)\n",
    "\n",
    "for causal in causal_genes:\n",
    "    beta[causal] = 1\n",
    "\n",
    "\n",
    "katz_centrality = networkx.katz_centrality_numpy(interactome, alpha=0.5, beta=beta)\n",
    "\n",
    "# order scores and degrees as in results.keys()\n",
    "proteins = results.keys()\n",
    "scores = [results[node] for node in proteins]\n",
    "katz_c = [katz_centrality[node] for node in proteins]\n",
    "\n",
    "matplotlib.pyplot.scatter(x=scores, y=katz_c)\n",
    "matplotlib.pyplot.xlabel(\"GBA-centrality scores\")\n",
    "matplotlib.pyplot.ylabel(\"Katz centrality\")\n",
    "# matplotlib.pyplot.savefig(FIGURES_DIR + f\"{PHENOTYPE}_katz_centrality_alpha05\", dpi=1000)"
   ]
  },
  {
   "cell_type": "markdown",
   "metadata": {},
   "source": [
    "### Part V: Average distance between causal and predicted causal proteins"
   ]
  },
  {
   "cell_type": "code",
   "execution_count": null,
   "metadata": {},
   "outputs": [],
   "source": [
    "distances = []\n",
    "\n",
    "for pred in pred_causal:\n",
    "    for causal in causal_genes:\n",
    "        dist = networkx.shortest_path_length(G=interactome, source=pred, target=causal)\n",
    "        distances.append(dist)\n",
    "\n",
    "avg_dist = sum(distances) / len(distances)\n",
    "\n",
    "print(*distances)\n",
    "print(avg_dist)"
   ]
  }
 ],
 "metadata": {
  "kernelspec": {
   "display_name": "pyEnv_PPI",
   "language": "python",
   "name": "python3"
  },
  "language_info": {
   "codemirror_mode": {
    "name": "ipython",
    "version": 3
   },
   "file_extension": ".py",
   "mimetype": "text/x-python",
   "name": "python",
   "nbconvert_exporter": "python",
   "pygments_lexer": "ipython3",
   "version": "3.12.1"
  }
 },
 "nbformat": 4,
 "nbformat_minor": 2
}
