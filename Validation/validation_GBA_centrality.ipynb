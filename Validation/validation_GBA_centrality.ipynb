{
 "cells": [
  {
   "cell_type": "markdown",
   "metadata": {},
   "source": [
    "Copyright (C) Jędrzej Kubica, Nicolas Thierry-Mieg, 2024-2025\n",
    "\n",
    "This file was written by Jędrzej Kubica and Nicolas Thierry-Mieg\n",
    "(CNRS, France) Nicolas.Thierry-Mieg@univ-grenoble-alpes.fr\n",
    "\n",
    "This program is free software: you can redistribute it and/or modify it under\n",
    "the terms of the GNU General Public License as published by the Free Software\n",
    "Foundation, either version 3 of the License, or (at your option) any later version.\n",
    "\n",
    "This program is distributed in the hope that it will be useful, but WITHOUT ANY WARRANTY;\n",
    "without even the implied warranty of MERCHANTABILITY or FITNESS FOR A PARTICULAR PURPOSE.\n",
    "See the GNU General Public License for more details.\n",
    "\n",
    "You should have received a copy of the GNU General Public License along with this program.\n",
    "If not, see <https://www.gnu.org/licenses/>."
   ]
  },
  {
   "cell_type": "markdown",
   "metadata": {},
   "source": [
    "## This is a notebook for the validation of GBA centrality\n",
    "\n",
    "Contents:\n",
    "\n",
    "- **Part 1: Tissue-enrichment validation**\n",
    "\n",
    "    We compare the ratio of predicted causal genes enriched in the tissue with the ratio of all genes enriched in the tissue. We compare the two ratios using Fisher's exact test to answer the question: \"Are predicted causal genes significantly enriched in the tissue of interest?\".\n",
    "\n",
    "    Part 1.1. GBA centrality\n",
    "    \n",
    "    Part 1.2. Random Walk with Restart (RWR)\n",
    "\n",
    "    Part 1.3. PageRank\n",
    "\n",
    "    Part 1.4. Comparison of tissue enrichment between methods: GBA centrality vs RWR vs PageRank\n",
    "\n",
    "- **Part 2: Leave-one-out validation**\n",
    "\n",
    "    We compare empirical CDFs (cumulative distribution function) for ranks of left-out genes from GBA centrality, RWR and PageRank using the Wilcoxon signed-rank test."
   ]
  },
  {
   "cell_type": "code",
   "execution_count": null,
   "metadata": {},
   "outputs": [],
   "source": [
    "import os\n",
    "import sys\n",
    "\n",
    "import scipy\n",
    "import numpy\n",
    "import networkx\n",
    "\n",
    "import matplotlib.pyplot\n",
    "\n",
    "sys.path.append(os.path.join(os.path.abspath(''), '..'))\n",
    "import data_parser"
   ]
  },
  {
   "cell_type": "code",
   "execution_count": null,
   "metadata": {},
   "outputs": [],
   "source": [
    "def parse_scores(scores_file):\n",
    "    '''\n",
    "    Loads the scores generated with GBA_centrality.py\n",
    "    Returns:\n",
    "    - ENSG2score: dict with key=ENSG, value=score\n",
    "    - gene2ENSG: dict with key=gene, value=ENSG\n",
    "    - ENSG2gene: dict key=ENSG, value=gene\n",
    "    '''\n",
    "    ENSG2score = {}\n",
    "    gene2ENSG = {}\n",
    "    ENSG2gene = {}\n",
    " \n",
    "    with open(scores_file, 'r') as f:\n",
    "        # skip header\n",
    "        next(f)\n",
    "\n",
    "        data = f.read().splitlines()\n",
    "        for line in data:\n",
    "            split_line = line.rstrip().split('\\t')\n",
    "            ENSG, gene, score = split_line\n",
    "\n",
    "            ENSG2score[ENSG] = float(score)\n",
    "            gene2ENSG[gene] = ENSG\n",
    "            ENSG2gene[ENSG] = gene\n",
    "\n",
    "    return ENSG2score, gene2ENSG, ENSG2gene"
   ]
  },
  {
   "cell_type": "code",
   "execution_count": null,
   "metadata": {},
   "outputs": [],
   "source": [
    "def parse_RWR_scores(scores_file):\n",
    "    '''\n",
    "    Loads the scores generated with MultiXrank\n",
    "    Returns:\n",
    "    - ENSG2score: dict with key=ENSG, value=score\n",
    "    '''\n",
    "    ENSG2score = {}\n",
    " \n",
    "    with open(scores_file, 'r') as f:\n",
    "        # skip header\n",
    "        next(f)\n",
    "\n",
    "        data = f.read().splitlines()\n",
    "        for line in data:\n",
    "            split_line = line.rstrip().split('\\t')\n",
    "            _, ENSG, score = split_line\n",
    "\n",
    "            ENSG2score[ENSG] = float(score)\n",
    "\n",
    "    return ENSG2score"
   ]
  },
  {
   "cell_type": "code",
   "execution_count": null,
   "metadata": {},
   "outputs": [],
   "source": [
    "def parse_expression_data(expression_data, interactome):\n",
    "    '''\n",
    "    Loads a TSV file with columns: ENSG\\tgene_expression_ratio\n",
    "    Returns a dictionary: key=ENSG, value=gene_expression_ratio\n",
    "    '''\n",
    "    tissue_expression = {}\n",
    "\n",
    "    with open(expression_data) as f:\n",
    "        # skip header\n",
    "        for _ in range(4):\n",
    "            next(f)\n",
    "        header = next(f)\n",
    "        if not header.startswith(\"Gene ID\"):\n",
    "            raise Exception(\"Expression data file wrong header\")\n",
    "        \n",
    "        for line in f:\n",
    "            split_line = line.rstrip().split('\\t', maxsplit=2)\n",
    "            ENSG, tissue_ratio, _ = split_line\n",
    "\n",
    "            if ENSG in interactome:\n",
    "                tissue_expression[ENSG] = float(tissue_ratio)\n",
    "    \n",
    "    return tissue_expression"
   ]
  },
  {
   "cell_type": "code",
   "execution_count": null,
   "metadata": {},
   "outputs": [],
   "source": [
    "def take_top_percent(list, x):\n",
    "    '''\n",
    "    Finds the top x% of values in a list\n",
    "    Returns: \n",
    "    - top: list with top x% of values\n",
    "    - rest: list with the rest of values\n",
    "    '''\n",
    "    num_elements = round(len(list) * x/100)\n",
    "\n",
    "    top = list[:num_elements]\n",
    "    rest = list[num_elements:]\n",
    "    \n",
    "    return top, rest"
   ]
  },
  {
   "cell_type": "code",
   "execution_count": null,
   "metadata": {},
   "outputs": [],
   "source": [
    "def intersection(list_1, list_2):\n",
    "    '''\n",
    "    Returns a list with common elements for two lists\n",
    "    '''\n",
    "    return list(set(list_1) & set(list_2))"
   ]
  },
  {
   "cell_type": "code",
   "execution_count": null,
   "metadata": {},
   "outputs": [],
   "source": [
    "def format_pvalue(pvalue):\n",
    "    '''Returns the p-value in the notation: \"1.00e-2**\" '''\n",
    "    p = '{:.2e}'.format(pvalue)\n",
    "\n",
    "    if pvalue <= 0.0001:\n",
    "        return \"p < 10^-4****\"\n",
    "    elif pvalue <= 0.001:\n",
    "        return \"p < 10^-3***\"\n",
    "    elif pvalue <= 0.01:\n",
    "        return \"p < 0.01**\"\n",
    "    elif pvalue <= 0.05:\n",
    "        return \"p < 0.05*\"    \n",
    "    return f\"p = {p}\""
   ]
  },
  {
   "cell_type": "markdown",
   "metadata": {},
   "source": [
    "### Set parameters and paths"
   ]
  },
  {
   "cell_type": "code",
   "execution_count": null,
   "metadata": {},
   "outputs": [],
   "source": [
    "'''Set parameters with which GBA_centrality.py was run'''\n",
    "PHENOTYPE = \"BC\"\n",
    "ALPHA = 0.5\n",
    "D_MAX = 10\n",
    "\n",
    "alpha = str(ALPHA).replace('.', '')"
   ]
  },
  {
   "cell_type": "code",
   "execution_count": null,
   "metadata": {},
   "outputs": [],
   "source": [
    "INTERACTOME_FILE = \"../Interactome/interactome_human.sif\"\n",
    "\n",
    "RESULTS_FILE = f\"../output/{PHENOTYPE}/alpha{alpha}_d{D_MAX}/scores.tsv\"\n",
    "LEAVE_ONE_OUT_FILE = f\"../output/{PHENOTYPE}/alpha{alpha}_d{D_MAX}/scores_leave_one_out.tsv\"\n",
    "\n",
    "RESULTS_RWR_FILE = f\"/home/kubicaj/workspace/MultiXrank/r{alpha}/{PHENOTYPE}/output_{PHENOTYPE}/multiplex_1.tsv\""
   ]
  },
  {
   "cell_type": "code",
   "execution_count": null,
   "metadata": {},
   "outputs": [],
   "source": [
    "'''Data and parameters for Part 1: Tissue-enrichment validation'''\n",
    "PRED_CAUSAL_DEF = 10  # [%]\n",
    "TISSUE_ENRICHED_DEF = 10  # [%]\n",
    "\n",
    "if PHENOTYPE in [\"MMAF\", \"NOA\", \"OG\", \"PCD\", \"POF\"]:\n",
    "    TISSUE = \"testis\"\n",
    "elif PHENOTYPE == \"BC\":\n",
    "    TISSUE = \"breast\"\n",
    "elif PHENOTYPE == \"CC\":\n",
    "    TISSUE = \"colon\"\n",
    "elif PHENOTYPE in [\"HYPCARD\", \"DILCARD\"]:\n",
    "    TISSUE = \"heart\"\n",
    "\n",
    "# see README for the description of GTEx data\n",
    "GTEX_DATA_FILE = f\"/home/kubicaj/workspace/data/input_GBA/E-MTAB-5214-query-results-{TISSUE}-ratio.tpms.tsv\""
   ]
  },
  {
   "cell_type": "code",
   "execution_count": null,
   "metadata": {},
   "outputs": [],
   "source": [
    "'''Set path for output figures'''\n",
    "FIGURES_DIR = \"./figures/\""
   ]
  },
  {
   "cell_type": "markdown",
   "metadata": {},
   "source": [
    "### Load data"
   ]
  },
  {
   "cell_type": "code",
   "execution_count": null,
   "metadata": {},
   "outputs": [],
   "source": [
    "'''Parse interactome'''\n",
    "interactome = data_parser.parse_interactome(interactome_file=INTERACTOME_FILE)\n",
    "print(f\"Interactome: {len(interactome.nodes())} proteins, {len(interactome.edges())} interactions\")"
   ]
  },
  {
   "cell_type": "code",
   "execution_count": null,
   "metadata": {},
   "outputs": [],
   "source": [
    "'''Load GBA centrality scores and leave-one-out results, then sort them by descending order'''\n",
    "ENSG2score_all, gene2ENSG, ENSG2gene = parse_scores(RESULTS_FILE)\n",
    "ENSG2score_leaveOneOut, _, _ = parse_scores(LEAVE_ONE_OUT_FILE)\n",
    "\n",
    "ENSG2score = ENSG2score_all.copy()\n",
    "\n",
    "# remove known causal genes from results (i.e., seed genes)\n",
    "for gene in ENSG2score_leaveOneOut:\n",
    "    del ENSG2score[gene]\n",
    "\n",
    "results_sorted = sorted(ENSG2score.keys(), key=lambda item: ENSG2score[item], reverse=True)\n",
    "scores_sorted = [ENSG2score[node] for node in results_sorted]\n",
    "\n",
    "results_leave_one_out_sorted = sorted(ENSG2score_leaveOneOut.keys(),\n",
    "                                      key=lambda item: ENSG2score_leaveOneOut[item],\n",
    "                                      reverse=True)\n",
    "scores_leave_one_out_sorted = [ENSG2score_leaveOneOut[node] for node in results_leave_one_out_sorted]"
   ]
  },
  {
   "cell_type": "markdown",
   "metadata": {},
   "source": [
    "### Part 1: Tissue-enrichment validation"
   ]
  },
  {
   "cell_type": "markdown",
   "metadata": {},
   "source": [
    "#### Part 1.1. Tissue-enrichment validation: GBA centrality"
   ]
  },
  {
   "cell_type": "code",
   "execution_count": null,
   "metadata": {},
   "outputs": [],
   "source": [
    "'''Load tissue expression data'''\n",
    "tissue_expr = parse_expression_data(GTEX_DATA_FILE, interactome=interactome)"
   ]
  },
  {
   "cell_type": "code",
   "execution_count": null,
   "metadata": {},
   "outputs": [],
   "source": [
    "'''Get top x% of highest-scoring genes (including causal)'''\n",
    "# due to obsolete GTEx data, some genes in the interactome need to be removed from the tissue enrichment analysis\n",
    "for gene in interactome:\n",
    "    if gene not in tissue_expr:\n",
    "        del ENSG2score_all[gene]\n",
    "\n",
    "results_all_sorted = sorted(ENSG2score_all.keys(), key=lambda item: ENSG2score_all[item], reverse=True)\n",
    "pred_causal, non_pred_causal = take_top_percent(results_all_sorted, PRED_CAUSAL_DEF)\n",
    "\n",
    "print(f\"Selected {len(pred_causal)} higest-scoring genes\")"
   ]
  },
  {
   "cell_type": "code",
   "execution_count": null,
   "metadata": {},
   "outputs": [],
   "source": [
    "'''Get top x% of genes enriched in the tissue'''\n",
    "tissue_expr_sorted = sorted(tissue_expr.keys(), key=lambda item: tissue_expr[item], reverse=True)\n",
    "tissue_enriched, non_tissue_enriched = take_top_percent(tissue_expr_sorted, TISSUE_ENRICHED_DEF)\n",
    "\n",
    "print(f\"Selected {len(tissue_enriched)} {TISSUE}-enriched genes\")"
   ]
  },
  {
   "cell_type": "code",
   "execution_count": null,
   "metadata": {},
   "outputs": [],
   "source": [
    "'''Construct a contingency matrix for Fisher's exact test'''\n",
    "x1 = len(intersection(pred_causal, tissue_enriched))\n",
    "x2 = len(intersection(non_pred_causal, tissue_enriched))\n",
    "x3 = len(intersection(pred_causal, non_tissue_enriched))\n",
    "x4 = len(intersection(non_pred_causal, non_tissue_enriched))\n",
    "\n",
    "contingency_matrix = [[x1, x2], [x3, x4]]\n",
    "\n",
    "# plot the contingency table\n",
    "fig, ax = matplotlib.pyplot.subplots()\n",
    "table = ax.table(contingency_matrix, \n",
    "                 rowLabels=[f'{TISSUE}', f'non-{TISSUE}'], \n",
    "                 colLabels=[f'pred {PHENOTYPE}', f'non-pred {PHENOTYPE}'], \n",
    "                 loc=\"center\")\n",
    "ax.axis('tight')\n",
    "ax.axis('off')\n",
    "table.set_fontsize(14)\n",
    "table.scale(1,2)"
   ]
  },
  {
   "cell_type": "code",
   "execution_count": null,
   "metadata": {},
   "outputs": [],
   "source": [
    "''' \n",
    "Check if the ratio of predicted causal genes enriched in tissue is greater \n",
    "than the ratio of all genes enriched in the tissue\n",
    "\n",
    "Note: alternative='greater' is the probability that a random table has x >= a, \n",
    "where contingency_matrix = [[a, b], [c, d]]\n",
    "'''\n",
    "_, p_tissue_expr = scipy.stats.fisher_exact(contingency_matrix, alternative='greater')\n",
    "\n",
    "p_tissue_expr = format_pvalue(pvalue=p_tissue_expr)\n",
    "print(f\"{p_tissue_expr}\")"
   ]
  },
  {
   "cell_type": "code",
   "execution_count": null,
   "metadata": {},
   "outputs": [],
   "source": [
    "proportion1 = x1 / (x1 + x3)  # ratio of predicted causal genes that are enriched in tissue\n",
    "proportion2 = (x1 + x2) / (x1 + x2 + x3 + x4)  # ratio of all genes that are enriched in tissue\n",
    "\n",
    "labels = [f\"Predicted causal genes\\nenriched in {TISSUE}\", \n",
    "          f\"All genes enriched in {TISSUE}\"]\n",
    "\n",
    "matplotlib.pyplot.bar(x=labels, height=[proportion1, proportion2], color=['#853A22', '#112E51'])\n",
    "\n",
    "# if statements below are convenient for plotting\n",
    "if PHENOTYPE in [\"MMAF\", \"NOA\", \"OG\", \"PCD\", \"POF\"]:\n",
    "    matplotlib.pyplot.title(f\"{TISSUE.capitalize()} enrichment analysis\\n of predicted {PHENOTYPE} genes\\n({len(ENSG2score_leaveOneOut)} causal genes)\", weight='bold', fontsize=12)\n",
    "elif PHENOTYPE == \"BC\":\n",
    "    matplotlib.pyplot.title(f\"{TISSUE.capitalize()} enrichment analysis\\n of predicted breast cancer genes\\n({len(ENSG2score_leaveOneOut)} causal genes)\", weight='bold', fontsize=12)\n",
    "elif PHENOTYPE == \"CC\":\n",
    "    matplotlib.pyplot.title(f\"{TISSUE.capitalize()} enrichment analysis\\n of predicted colon cancer genes\\n({len(ENSG2score_leaveOneOut)} causal genes)\", weight='bold', fontsize=12)\n",
    "elif PHENOTYPE == \"HYPCARD\":\n",
    "    matplotlib.pyplot.title(f\"{TISSUE.capitalize()} enrichment analysis\\n of predicted hypertrophic cardiomyopathy genes\\n({len(ENSG2score_leaveOneOut)} causal genes)\", weight='bold', fontsize=12)\n",
    "elif PHENOTYPE == \"DILCARD\":\n",
    "    matplotlib.pyplot.title(f\"{TISSUE.capitalize()} enrichment analysis\\n of predicted dilated cardiomyopathy cancer genes\\n({len(ENSG2score_leaveOneOut)} causal genes)\", weight='bold', fontsize=12)\n",
    "\n",
    "# plot p-value\n",
    "h = .1 * max(proportion1, proportion2)\n",
    "y = max(proportion1, proportion2) + h\n",
    "\n",
    "matplotlib.pyplot.plot([labels[0], labels[0], labels[1], labels[1]], [y, y+h, y+h, y], lw=1, c='black')\n",
    "matplotlib.pyplot.text(x=0.35,y=y+2*h, s=f\"{p_tissue_expr}\")\n",
    "\n",
    "y_max = 2*max(proportion1, proportion2)\n",
    "matplotlib.pyplot.yticks(numpy.arange(0, y_max, 0.05))\n",
    "matplotlib.pyplot.ylabel(\"Ratio\")\n",
    "\n",
    "matplotlib.pyplot.grid(True, linestyle='--', which='major',\n",
    "                   color='grey', alpha=.25)\n",
    "\n",
    "# matplotlib.pyplot.savefig(FIGURES_DIR + f\"{PHENOTYPE}_tissue_enrichment\", dpi=1000)"
   ]
  },
  {
   "cell_type": "markdown",
   "metadata": {},
   "source": [
    "#### Part 1.2. Tissue-enrichment validation: RWR"
   ]
  },
  {
   "cell_type": "code",
   "execution_count": null,
   "metadata": {},
   "outputs": [],
   "source": [
    "'''Load MultiXrank (RWR) scores and leave-one-out results, then sort them by descending order'''\n",
    "ENSG2score_RWR = parse_RWR_scores(RESULTS_RWR_FILE)"
   ]
  },
  {
   "cell_type": "code",
   "execution_count": null,
   "metadata": {},
   "outputs": [],
   "source": [
    "'''Get top x% of highest-scoring genes (including causal)'''\n",
    "# due to obsolete GTEx data, some genes in the interactome need to be removed from the tissue enrichment analysis\n",
    "for gene in interactome:\n",
    "    if gene not in tissue_expr:\n",
    "        del ENSG2score_RWR[gene]\n",
    "\n",
    "results_RWR_sorted = sorted(ENSG2score_RWR.keys(), key=lambda item: ENSG2score_RWR[item], reverse=True)\n",
    "pred_causal_RWR, non_pred_causal_RWR = take_top_percent(results_RWR_sorted, PRED_CAUSAL_DEF)\n",
    "\n",
    "print(f\"Selected {len(pred_causal_RWR)} higest-scoring genes\")"
   ]
  },
  {
   "cell_type": "code",
   "execution_count": null,
   "metadata": {},
   "outputs": [],
   "source": [
    "'''Construct a contingency matrix for Fisher's exact test'''\n",
    "x1 = len(intersection(pred_causal_RWR, tissue_enriched))\n",
    "x2 = len(intersection(non_pred_causal_RWR, tissue_enriched))\n",
    "x3 = len(intersection(pred_causal_RWR, non_tissue_enriched))\n",
    "x4 = len(intersection(non_pred_causal_RWR, non_tissue_enriched))\n",
    "\n",
    "contingency_matrix = [[x1, x2], [x3, x4]]\n",
    "\n",
    "# plot the contingency table\n",
    "fig, ax = matplotlib.pyplot.subplots()\n",
    "table = ax.table(contingency_matrix, \n",
    "                 rowLabels=[f'{TISSUE}', f'non-{TISSUE}'], \n",
    "                 colLabels=[f'pred {PHENOTYPE}', f'non-pred {PHENOTYPE}'], \n",
    "                 loc=\"center\")\n",
    "ax.axis('tight')\n",
    "ax.axis('off')\n",
    "table.set_fontsize(14)\n",
    "table.scale(1,2)"
   ]
  },
  {
   "cell_type": "code",
   "execution_count": null,
   "metadata": {},
   "outputs": [],
   "source": [
    "''' \n",
    "Check if the ratio of predicted causal genes enriched in the tissue is greater \n",
    "than the ratio of all genes enriched in the tissue\n",
    "\n",
    "Note: alternative='greater' is the probability that a random table has x >= a, \n",
    "where contingency_matrix = [[a, b], [c, d]]\n",
    "'''\n",
    "_, p_tissue_expr = scipy.stats.fisher_exact(contingency_matrix, alternative='greater')\n",
    "\n",
    "p_tissue_expr = format_pvalue(pvalue=p_tissue_expr)\n",
    "print(f\"{p_tissue_expr}\")"
   ]
  },
  {
   "cell_type": "code",
   "execution_count": null,
   "metadata": {},
   "outputs": [],
   "source": [
    "proportion1 = x1 / (x1 + x3)  # ratio of predicted causal genes that are enriched in tissue\n",
    "proportion2 = (x1 + x2) / (x1 + x2 + x3 + x4)  # ratio of all genes that are enriched in tissue\n",
    "\n",
    "labels = [f\"Predicted causal genes\\n enriched in {TISSUE}\", \n",
    "          f\"All proteins enriched in {TISSUE}\"]\n",
    "\n",
    "matplotlib.pyplot.bar(x=labels, height=[proportion1, proportion2], color=['#853A22', '#112E51'])\n",
    "\n",
    "# if statements below are convenient for plotting\n",
    "if PHENOTYPE in [\"MMAF\", \"NOA\", \"OG\", \"PCD\", \"POF\"]:\n",
    "    matplotlib.pyplot.title(f\"{TISSUE.capitalize()} enrichment analysis\\n of predicted {PHENOTYPE} genes\\n({len(ENSG2score_leaveOneOut)} seed genes) - RWR\", weight='bold', fontsize=12)\n",
    "elif PHENOTYPE == \"BC\":\n",
    "    matplotlib.pyplot.title(f\"{TISSUE.capitalize()} enrichment analysis\\n of predicted breast cancer genes\\n({len(ENSG2score_leaveOneOut)} causal genes) - RWR\", weight='bold', fontsize=12)\n",
    "elif PHENOTYPE == \"CC\":\n",
    "    matplotlib.pyplot.title(f\"{TISSUE.capitalize()} enrichment analysis\\n of predicted colon cancer genes\\n({len(ENSG2score_leaveOneOut)} causal genes) - RWR\", weight='bold', fontsize=12)\n",
    "elif PHENOTYPE == \"HYPCARD\":\n",
    "    matplotlib.pyplot.title(f\"{TISSUE.capitalize()} enrichment analysis\\n of predicted hypertrophic cardiomyopathy genes\\n({len(ENSG2score_leaveOneOut)} causal genes) - RWR\", weight='bold', fontsize=12)\n",
    "elif PHENOTYPE == \"DILCARD\":\n",
    "    matplotlib.pyplot.title(f\"{TISSUE.capitalize()} enrichment analysis\\n of predicted dilated cardiomyopathy cancer genes\\n({len(ENSG2score_leaveOneOut)} causal genes) - RWR\", weight='bold', fontsize=12)\n",
    "\n",
    "# plot p-value\n",
    "h = .1 * max(proportion1, proportion2)\n",
    "y = max(proportion1, proportion2) + h\n",
    "\n",
    "matplotlib.pyplot.plot([labels[0], labels[0], labels[1], labels[1]], [y, y+h, y+h, y], lw=1, c='black')\n",
    "matplotlib.pyplot.text(x=0.35,y=y+2*h, s=f\"{p_tissue_expr}\")\n",
    "\n",
    "y_max = 2*max(proportion1, proportion2)\n",
    "matplotlib.pyplot.yticks(numpy.arange(0, y_max, 0.05))\n",
    "matplotlib.pyplot.ylabel(\"Ratio\")\n",
    "\n",
    "matplotlib.pyplot.grid(True, linestyle='--', which='major',\n",
    "                   color='grey', alpha=.25)\n",
    "\n",
    "matplotlib.pyplot.savefig(FIGURES_DIR + f\"RWR_{PHENOTYPE}_tissue_enrichment\", dpi=1000)"
   ]
  },
  {
   "cell_type": "markdown",
   "metadata": {},
   "source": [
    "#### Part 1.3. Tissue-enrichment validation: PageRank"
   ]
  },
  {
   "cell_type": "code",
   "execution_count": null,
   "metadata": {},
   "outputs": [],
   "source": [
    "'''Calculate PageRank scores then sort them by descending scores'''\n",
    "# causal_genes: dict of causal genes with key=ENSG, value=1\n",
    "causal_genes = ENSG2score_leaveOneOut.copy()\n",
    "for left_out in causal_genes:\n",
    "    causal_genes[left_out] = 1\n",
    "\n",
    "# use the PageRank algorithm from NetworkX\n",
    "ENSG2score_pagerank = networkx.pagerank(interactome, personalization=causal_genes, alpha=ALPHA)"
   ]
  },
  {
   "cell_type": "code",
   "execution_count": null,
   "metadata": {},
   "outputs": [],
   "source": [
    "ENSG2score_pagerank[\"ENSG00000151332\"]"
   ]
  },
  {
   "cell_type": "code",
   "execution_count": null,
   "metadata": {},
   "outputs": [],
   "source": [
    "'''Get top x% of highest-scoring genes (including causal)'''\n",
    "# due to obsolete GTEx data, some genes in the interactome need to be removed from the tissue enrichment analysis\n",
    "for gene in interactome:\n",
    "    if gene not in tissue_expr:\n",
    "        del ENSG2score_pagerank[gene]\n",
    "\n",
    "results_pagerank_sorted = sorted(ENSG2score_pagerank.keys(), key=lambda item: ENSG2score_pagerank[item], reverse=True)\n",
    "pred_causal_pagerank, non_pred_causal_pagerank = take_top_percent(results_pagerank_sorted, PRED_CAUSAL_DEF)\n",
    "\n",
    "print(f\"Selected {len(pred_causal_pagerank)} higest-scoring genes\")"
   ]
  },
  {
   "cell_type": "code",
   "execution_count": null,
   "metadata": {},
   "outputs": [],
   "source": [
    "'''Construct a contingency matrix for Fisher's exact test'''\n",
    "x1 = len(intersection(pred_causal_pagerank, tissue_enriched))\n",
    "x2 = len(intersection(non_pred_causal_pagerank, tissue_enriched))\n",
    "x3 = len(intersection(pred_causal_pagerank, non_tissue_enriched))\n",
    "x4 = len(intersection(non_pred_causal_pagerank, non_tissue_enriched))\n",
    "\n",
    "contingency_matrix = [[x1, x2], [x3, x4]]\n",
    "\n",
    "# plot the contingency table\n",
    "fig, ax = matplotlib.pyplot.subplots()\n",
    "table = ax.table(contingency_matrix, \n",
    "                 rowLabels=[f'{TISSUE}', f'non-{TISSUE}'], \n",
    "                 colLabels=[f'pred {PHENOTYPE}', f'non-pred {PHENOTYPE}'], \n",
    "                 loc=\"center\")\n",
    "ax.axis('tight')\n",
    "ax.axis('off')\n",
    "table.set_fontsize(14)\n",
    "table.scale(1,2)"
   ]
  },
  {
   "cell_type": "code",
   "execution_count": null,
   "metadata": {},
   "outputs": [],
   "source": [
    "''' \n",
    "Check if the ratio of predicted causal genes enriched in the tissue is greater \n",
    "than the ratio of all genes enriched in the tissue\n",
    "\n",
    "Note: alternative='greater' is the probability that a random table has x >= a, \n",
    "where contingency_matrix = [[a, b], [c, d]]\n",
    "'''\n",
    "_, p_tissue_expr = scipy.stats.fisher_exact(contingency_matrix, alternative='greater')\n",
    "\n",
    "p_tissue_expr = format_pvalue(pvalue=p_tissue_expr)\n",
    "print(f\"{p_tissue_expr}\")"
   ]
  },
  {
   "cell_type": "code",
   "execution_count": null,
   "metadata": {},
   "outputs": [],
   "source": [
    "proportion1 = x1 / (x1 + x3)  # ratio of predicted causal genes that are enriched in tissue\n",
    "proportion2 = (x1 + x2) / (x1 + x2 + x3 + x4)  # ratio of all genes that are enriched in tissue\n",
    "\n",
    "labels = [f\"Predicted causal genes\\n enriched in {TISSUE}\", \n",
    "          f\"All proteins enriched in {TISSUE}\"]\n",
    "\n",
    "matplotlib.pyplot.bar(x=labels, height=[proportion1, proportion2], color=['#853A22', '#112E51'])\n",
    "\n",
    "# if statements below are convenient for plotting\n",
    "if PHENOTYPE in [\"MMAF\", \"NOA\", \"OG\", \"PCD\", \"POF\"]:\n",
    "    matplotlib.pyplot.title(f\"{TISSUE.capitalize()} enrichment analysis\\n of predicted {PHENOTYPE} genes\\n({len(ENSG2score_leaveOneOut)} seed genes) - PageRank\", weight='bold', fontsize=12)\n",
    "elif PHENOTYPE == \"BC\":\n",
    "    matplotlib.pyplot.title(f\"{TISSUE.capitalize()} enrichment analysis\\n of predicted breast cancer genes\\n({len(ENSG2score_leaveOneOut)} causal genes) - PageRank\", weight='bold', fontsize=12)\n",
    "elif PHENOTYPE == \"CC\":\n",
    "    matplotlib.pyplot.title(f\"{TISSUE.capitalize()} enrichment analysis\\n of predicted colon cancer genes\\n({len(ENSG2score_leaveOneOut)} causal genes) - PageRank\", weight='bold', fontsize=12)\n",
    "elif PHENOTYPE == \"HYPCARD\":\n",
    "    matplotlib.pyplot.title(f\"{TISSUE.capitalize()} enrichment analysis\\n of predicted hypertrophic cardiomyopathy genes\\n({len(ENSG2score_leaveOneOut)} causal genes) - PageRank\", weight='bold', fontsize=12)\n",
    "elif PHENOTYPE == \"DILCARD\":\n",
    "    matplotlib.pyplot.title(f\"{TISSUE.capitalize()} enrichment analysis\\n of predicted dilated cardiomyopathy cancer genes\\n({len(ENSG2score_leaveOneOut)} causal genes) - PageRank\", weight='bold', fontsize=12)\n",
    "\n",
    "# plot p-value\n",
    "h = .1 * max(proportion1, proportion2)\n",
    "y = max(proportion1, proportion2) + h\n",
    "\n",
    "matplotlib.pyplot.plot([labels[0], labels[0], labels[1], labels[1]], [y, y+h, y+h, y], lw=1, c='black')\n",
    "matplotlib.pyplot.text(x=0.35,y=y+2*h, s=f\"{p_tissue_expr}\")\n",
    "\n",
    "y_max = 2*max(proportion1, proportion2)\n",
    "matplotlib.pyplot.yticks(numpy.arange(0, y_max, 0.05))\n",
    "matplotlib.pyplot.ylabel(\"Ratio\")\n",
    "\n",
    "matplotlib.pyplot.grid(True, linestyle='--', which='major',\n",
    "                   color='grey', alpha=.25)\n",
    "\n",
    "matplotlib.pyplot.savefig(FIGURES_DIR + f\"PageRank_{PHENOTYPE}_tissue_enrichment\", dpi=1000)"
   ]
  },
  {
   "cell_type": "markdown",
   "metadata": {},
   "source": [
    "#### Part 1.4. Tissue-enrichment validation: GBA centrality vs RWR vs PageRank"
   ]
  },
  {
   "cell_type": "code",
   "execution_count": null,
   "metadata": {},
   "outputs": [],
   "source": [
    "'''Construct a matrix to compare GBA centrality, RWR and PageRank'''\n",
    "x1 = len(intersection(pred_causal, tissue_enriched))\n",
    "x2 = len(intersection(pred_causal, non_tissue_enriched))\n",
    "x3 = len(intersection(pred_causal_RWR, tissue_enriched))\n",
    "x4 = len(intersection(pred_causal_RWR, non_tissue_enriched))\n",
    "x5 = len(intersection(pred_causal_pagerank, tissue_enriched))\n",
    "x6 = len(intersection(pred_causal_pagerank, non_tissue_enriched))\n",
    "\n",
    "matrix = [[x1, x2], [x3, x4], [x5, x6]]\n",
    "\n",
    "# plot the contingency table\n",
    "fig, ax = matplotlib.pyplot.subplots()\n",
    "table = ax.table(matrix, \n",
    "                 rowLabels=[f'Pred {PHENOTYPE} (GBA centrality)', f'Pred {PHENOTYPE} (RWR)', f'Pred {PHENOTYPE} (PageRank)'], \n",
    "                 colLabels=[f'{TISSUE}', f'non-{TISSUE}'], \n",
    "                 loc=\"center\")\n",
    "ax.axis('tight')\n",
    "ax.axis('off')\n",
    "table.set_fontsize(14)\n",
    "table.scale(1,2)"
   ]
  },
  {
   "cell_type": "markdown",
   "metadata": {},
   "source": [
    "#### GBA centrality vs RWR"
   ]
  },
  {
   "cell_type": "code",
   "execution_count": null,
   "metadata": {},
   "outputs": [],
   "source": [
    "'''Construct a contingency matrix for Fisher's exact test to compare GBA centrality and RWR'''\n",
    "x1 = len(intersection(pred_causal, tissue_enriched))\n",
    "x2 = len(intersection(pred_causal, non_tissue_enriched))\n",
    "x3 = len(intersection(pred_causal_RWR, tissue_enriched))\n",
    "x4 = len(intersection(pred_causal_RWR, non_tissue_enriched))\n",
    "\n",
    "contingency_matrix = [[x1, x2], [x3, x4]]\n",
    "\n",
    "# plot the contingency table\n",
    "fig, ax = matplotlib.pyplot.subplots()\n",
    "table = ax.table(contingency_matrix, \n",
    "                 rowLabels=[f'Pred {PHENOTYPE} (GBA centrality)', f'Pred {PHENOTYPE} (RWR)'], \n",
    "                 colLabels=[f'{TISSUE}', f'non-{TISSUE}'], \n",
    "                 loc=\"center\")\n",
    "ax.axis('tight')\n",
    "ax.axis('off')\n",
    "table.set_fontsize(14)\n",
    "table.scale(1,2)"
   ]
  },
  {
   "cell_type": "code",
   "execution_count": null,
   "metadata": {},
   "outputs": [],
   "source": [
    "''' \n",
    "Check if the ratio of predicted causal genes enriched in the tissue is greater\n",
    "for GBA centrality than for RWR\n",
    "\n",
    "Note: alternative='greater' is the probability that a random table has x >= a, \n",
    "where contingency_matrix = [[a, b], [c, d]]\n",
    "'''\n",
    "_, p_tissue_expr = scipy.stats.fisher_exact(contingency_matrix, alternative='greater')\n",
    "\n",
    "p_tissue_expr = format_pvalue(pvalue=p_tissue_expr)\n",
    "print(f\"{p_tissue_expr}\")"
   ]
  },
  {
   "cell_type": "code",
   "execution_count": null,
   "metadata": {},
   "outputs": [],
   "source": [
    "proportion1 = x1 / (x1 + x2)  # ratio of predicted causal genes that are tissue-enriched (GBA centrality)\n",
    "proportion2 = x3 / (x3 + x4)  # ratio of predicted causal genes that are tissue-enriched (RWR)\n",
    "\n",
    "labels = [f\"Predicted causal genes\\nenriched in {TISSUE}\\n(GBA centrality)\", \n",
    "          f\"Predicted causal genes\\nenriched in {TISSUE}\\n(RWR)\"]\n",
    "\n",
    "matplotlib.pyplot.bar(x=labels, height=[proportion1, proportion2], color=['#E1BE6A', '#40B0A6'])\n",
    "\n",
    "# if statements below are convenient for plotting\n",
    "if PHENOTYPE in [\"MMAF\", \"NOA\", \"OG\", \"PCD\", \"POF\"]:\n",
    "    matplotlib.pyplot.title(f\"{TISSUE.capitalize()} enrichment analysis\\nof predicted {PHENOTYPE} genes\\nGBA centrality vs RWR\", weight='bold', fontsize=12)\n",
    "elif PHENOTYPE == \"BC\":\n",
    "    matplotlib.pyplot.title(f\"{TISSUE.capitalize()} enrichment analysis\\nof predicted breast cancer genes\\nGBA centrality vs RWR\", weight='bold', fontsize=12)\n",
    "elif PHENOTYPE == \"CC\":\n",
    "    matplotlib.pyplot.title(f\"{TISSUE.capitalize()} enrichment analysis\\nof predicted colon cancer genes\\nGBA centrality vs RWR\", weight='bold', fontsize=12)\n",
    "elif PHENOTYPE == \"HYPCARD\":\n",
    "    matplotlib.pyplot.title(f\"{TISSUE.capitalize()} enrichment analysis\\nof predicted hypertrophic cardiomyopathy genes\\nGBA centrality vs RWR\", weight='bold', fontsize=12)\n",
    "elif PHENOTYPE == \"DILCARD\":\n",
    "    matplotlib.pyplot.title(f\"{TISSUE.capitalize()} enrichment analysis\\nof predicted dilated cardiomyopathy genes\\nGBA centrality vs RWR\", weight='bold', fontsize=12)\n",
    "\n",
    "# plot p-value\n",
    "h = .1 * max(proportion1, proportion2)\n",
    "y = max(proportion1, proportion2) + h\n",
    "\n",
    "matplotlib.pyplot.plot([labels[0], labels[0], labels[1], labels[1]], [y, y+h, y+h, y], lw=1, c='black')\n",
    "matplotlib.pyplot.text(x=0.35,y=y+2*h, s=f\"{p_tissue_expr}\")\n",
    "\n",
    "y_max = 2*max(proportion1, proportion2)\n",
    "matplotlib.pyplot.yticks(numpy.arange(0, y_max, 0.05))\n",
    "matplotlib.pyplot.ylabel(\"Ratio\")\n",
    "\n",
    "matplotlib.pyplot.grid(True, linestyle='--', which='major',\n",
    "                   color='grey', alpha=0.2)\n",
    "\n",
    "matplotlib.pyplot.savefig(FIGURES_DIR + f\"GBA_vs_RWR_{PHENOTYPE}_tissue_enrichment\", dpi=1000)"
   ]
  },
  {
   "cell_type": "markdown",
   "metadata": {},
   "source": [
    "#### GBA centrality vs PageRank"
   ]
  },
  {
   "cell_type": "code",
   "execution_count": null,
   "metadata": {},
   "outputs": [],
   "source": [
    "'''Construct a contingency matrix for Fisher's exact test to compare GBA centrality and PageRank'''\n",
    "x1 = len(intersection(pred_causal, tissue_enriched))\n",
    "x2 = len(intersection(pred_causal, non_tissue_enriched))\n",
    "x3 = len(intersection(pred_causal_pagerank, tissue_enriched))\n",
    "x4 = len(intersection(pred_causal_pagerank, non_tissue_enriched))\n",
    "\n",
    "contingency_matrix = [[x1, x2], [x3, x4]]\n",
    "\n",
    "# plot the contingency table\n",
    "fig, ax = matplotlib.pyplot.subplots()\n",
    "table = ax.table(contingency_matrix, \n",
    "                 rowLabels=[f'Pred {PHENOTYPE} (GBA centrality)', f'Pred {PHENOTYPE} (PageRank)'], \n",
    "                 colLabels=[f'{TISSUE}', f'non-{TISSUE}'], \n",
    "                 loc=\"center\")\n",
    "ax.axis('tight')\n",
    "ax.axis('off')\n",
    "table.set_fontsize(14)\n",
    "table.scale(1,2)"
   ]
  },
  {
   "cell_type": "code",
   "execution_count": null,
   "metadata": {},
   "outputs": [],
   "source": [
    "''' \n",
    "Check if the ratio of predicted causal genes enriched in the tissue is greater\n",
    "for GBA centrality than for PageRank\n",
    "\n",
    "Note: alternative='greater' is the probability that a random table has x >= a, \n",
    "where contingency_matrix = [[a, b], [c, d]]\n",
    "'''\n",
    "_, p_tissue_expr = scipy.stats.fisher_exact(contingency_matrix, alternative='greater')\n",
    "\n",
    "p_tissue_expr = format_pvalue(pvalue=p_tissue_expr)\n",
    "print(f\"{p_tissue_expr}\")"
   ]
  },
  {
   "cell_type": "code",
   "execution_count": null,
   "metadata": {},
   "outputs": [],
   "source": [
    "proportion1 = x1 / (x1 + x2)  # ratio of predicted causal genes that are tissue-enriched (GBA centrality)\n",
    "proportion2 = x3 / (x3 + x4)  # ratio of predicted causal genes that are tissue-enriched (PageRank)\n",
    "\n",
    "labels = [f\"Predicted causal genes\\nenriched in {TISSUE}\\n(GBA centrality)\", \n",
    "          f\"Predicted causal genes\\nenriched in {TISSUE}\\n(PageRank)\"]\n",
    "\n",
    "matplotlib.pyplot.bar(x=labels, height=[proportion1, proportion2], color=['#E1BE6A', '#40B0A6'])\n",
    "\n",
    "if PHENOTYPE in [\"MMAF\", \"NOA\", \"OG\", \"PCD\", \"POF\"]:\n",
    "    matplotlib.pyplot.title(f\"{TISSUE.capitalize()} enrichment analysis\\nof predicted {PHENOTYPE} genes\\nGBA centrality vs PageRank\", weight='bold', fontsize=12)\n",
    "elif PHENOTYPE == \"BC\":\n",
    "    matplotlib.pyplot.title(f\"{TISSUE.capitalize()} enrichment analysis\\nof predicted breast cancer genes\\nGBA centrality vs PageRank\", weight='bold', fontsize=12)\n",
    "elif PHENOTYPE == \"CC\":\n",
    "    matplotlib.pyplot.title(f\"{TISSUE.capitalize()} enrichment analysis\\nof predicted colon cancer genes\\nGBA centrality vs PageRank\", weight='bold', fontsize=12)\n",
    "elif PHENOTYPE == \"HYPCARD\":\n",
    "    matplotlib.pyplot.title(f\"{TISSUE.capitalize()} enrichment analysis\\nof predicted hypertrophic cardiomyopathy genes\\nGBA centrality vs PageRank\", weight='bold', fontsize=12)\n",
    "elif PHENOTYPE == \"DILCARD\":\n",
    "    matplotlib.pyplot.title(f\"{TISSUE.capitalize()} enrichment analysis\\nof predicted dilated cardiomyopathy genes\\nGBA centrality vs PageRank\", weight='bold', fontsize=12)\n",
    "\n",
    "\n",
    "# plot p-value\n",
    "h = .1 * max(proportion1, proportion2)\n",
    "y = max(proportion1, proportion2) + h\n",
    "\n",
    "matplotlib.pyplot.plot([labels[0], labels[0], labels[1], labels[1]], [y, y+h, y+h, y], lw=1, c='black')\n",
    "matplotlib.pyplot.text(x=0.35,y=y+2*h, s=f\"{p_tissue_expr}\")\n",
    "\n",
    "y_max = 2*max(proportion1, proportion2)\n",
    "matplotlib.pyplot.yticks(numpy.arange(0, y_max, 0.05))\n",
    "matplotlib.pyplot.ylabel(\"Ratio\")\n",
    "\n",
    "matplotlib.pyplot.grid(True, linestyle='--', which='major',\n",
    "                   color='grey', alpha=0.2)\n",
    "\n",
    "matplotlib.pyplot.savefig(FIGURES_DIR + f\"GBA_vs_PageRank_{PHENOTYPE}_tissue_enrichment\", dpi=1000)"
   ]
  },
  {
   "cell_type": "markdown",
   "metadata": {},
   "source": [
    "### Part 2: Leave-one-out validation"
   ]
  },
  {
   "cell_type": "code",
   "execution_count": null,
   "metadata": {},
   "outputs": [],
   "source": [
    "def parse_RWR_ranks(ranks_file):\n",
    "    '''\n",
    "    Loads the ranks generated with MultiXrank (RWR)\n",
    "    Returns:\n",
    "    - ENSG2rank: dict with key=ENSG, value=rank\n",
    "    '''\n",
    "    ENSG2rank = {}\n",
    " \n",
    "    with open(ranks_file, 'r') as f:\n",
    "        data = f.read().splitlines()\n",
    "        for line in data:\n",
    "            split_line = line.rstrip().split('\\t')\n",
    "            ENSG, rank = split_line\n",
    "\n",
    "            ENSG2rank[ENSG] = int(rank)\n",
    "\n",
    "    return ENSG2rank"
   ]
  },
  {
   "cell_type": "code",
   "execution_count": null,
   "metadata": {},
   "outputs": [],
   "source": [
    "def parse_GBA_ranks(ranks_file):\n",
    "    '''\n",
    "    Loads the ranks generated with GBA_centrality.py\n",
    "    Returns:\n",
    "    - ENSG2rank: dict with key=ENSG, value=rank\n",
    "    - gene2ENSG: dict with key=gene, value=ENSG\n",
    "    - ENSG2gene: dict key=ENSG, value=gene\n",
    "    '''\n",
    "    ENSG2rank = {}\n",
    "    gene2ENSG = {}\n",
    "    ENSG2gene = {}\n",
    " \n",
    "    with open(ranks_file, 'r') as f:\n",
    "        # skip header\n",
    "        next(f)\n",
    "\n",
    "        data = f.read().splitlines()\n",
    "        for line in data:\n",
    "            split_line = line.rstrip().split('\\t')\n",
    "            ENSG, gene, rank = split_line\n",
    "\n",
    "            ENSG2rank[ENSG] = int(rank)\n",
    "            gene2ENSG[gene] = ENSG\n",
    "            ENSG2gene[ENSG] = gene\n",
    "\n",
    "    return ENSG2rank, gene2ENSG, ENSG2gene"
   ]
  },
  {
   "cell_type": "code",
   "execution_count": null,
   "metadata": {},
   "outputs": [],
   "source": [
    "def calculate_PageRank_ranks(causal_genes, interactome, alpha):\n",
    "    # https://networkx.org/documentation/stable/reference/algorithms/generated/networkx.algorithms.link_analysis.pagerank_alg.pagerank.html\n",
    "\n",
    "    # causal_genes: dict of causal genes with key=ENSG, value=1\n",
    "    causal_genes = causal_genes.copy()\n",
    "    for left_out in causal_genes:\n",
    "        causal_genes[left_out] = 1\n",
    "\n",
    "    ENSG2rank_pagerank = {}\n",
    "    for left_out in list(causal_genes.keys()):\n",
    "        del causal_genes[left_out]\n",
    "        res_pagerank = networkx.pagerank(interactome, personalization=causal_genes, alpha=alpha)\n",
    "        \n",
    "        # save the left-out rank\n",
    "        results_sorted = sorted(res_pagerank.keys(), key=lambda item: res_pagerank[item], reverse=True)\n",
    "        rank_left_out = results_sorted.index(left_out) + 1  # + 1 because ranks start at 1 not 0\n",
    "\n",
    "        ENSG2rank_pagerank[left_out] = rank_left_out\n",
    "\n",
    "        # add left-out back to causal_genes\n",
    "        causal_genes[left_out] = 1\n",
    "\n",
    "    return ENSG2rank_pagerank"
   ]
  },
  {
   "cell_type": "code",
   "execution_count": null,
   "metadata": {},
   "outputs": [],
   "source": [
    "ENSG2rank_RWR = parse_RWR_ranks(f\"/home/kubicaj/workspace/MultiXrank/r{alpha}/{PHENOTYPE}/RWR_ranks_leave_one_out.tsv\")\n",
    "ENSG2rank_GBA, _, _ = parse_GBA_ranks(f\"../output/{PHENOTYPE}/alpha{alpha}_d{D_MAX}/ranks_leave_one_out.tsv\")\n",
    "ENSG2rank_pagerank = calculate_PageRank_ranks(causal_genes=ENSG2rank_GBA, interactome=interactome, alpha=ALPHA)"
   ]
  },
  {
   "cell_type": "code",
   "execution_count": null,
   "metadata": {},
   "outputs": [],
   "source": [
    "ranks_RWR = []\n",
    "ranks_GBA = []\n",
    "ranks_pagerank = []\n",
    "\n",
    "for gene in ENSG2rank_RWR:\n",
    "    ranks_RWR.append(ENSG2rank_RWR[gene])\n",
    "    ranks_GBA.append(ENSG2rank_GBA[gene])\n",
    "    ranks_pagerank.append(ENSG2rank_pagerank[gene])"
   ]
  },
  {
   "cell_type": "code",
   "execution_count": null,
   "metadata": {},
   "outputs": [],
   "source": [
    "# generate ranks from a random classifier\n",
    "# New code should use the integers method of a Generator instance instead of numpy.random.randint\n",
    "# https://numpy.org/doc/2.1/reference/random/generated/numpy.random.randint.html\n",
    "rng = numpy.random.default_rng()\n",
    "\n",
    "# 1D numpy array for left-out known causal gene ranks\n",
    "# size=len(left-out genes)\n",
    "ranks_random = numpy.zeros(len(ENSG2rank_RWR), dtype=numpy.uint64)\n",
    "\n",
    "n = 10000\n",
    "for i in range(n):\n",
    "    # 1D numpy array for left-out gene ranks\n",
    "    # size=len(left-out genes)\n",
    "    tmp = rng.integers(low=1, high=len(interactome), size=ranks_random.shape, dtype=numpy.uint64)\n",
    "    tmp = numpy.sort(tmp)\n",
    "    ranks_random += tmp\n",
    "\n",
    "for j in range(len(ranks_random)):\n",
    "    avg_rank = ranks_random[j] / n\n",
    "    ranks_random[j] = avg_rank"
   ]
  },
  {
   "cell_type": "code",
   "execution_count": null,
   "metadata": {},
   "outputs": [],
   "source": [
    "curve_RWR = []\n",
    "curve_GBA = []\n",
    "curve_pagerank = []\n",
    "curve_random = []\n",
    "\n",
    "for i in range(len(interactome)):\n",
    "    curve_RWR.append(sum(rank <= i for rank in ranks_RWR))\n",
    "    curve_GBA.append(sum(rank <= i for rank in ranks_GBA))\n",
    "    curve_pagerank.append(sum(rank <= i for rank in ranks_pagerank))\n",
    "    curve_random.append(sum(rank <= i for rank in ranks_random))"
   ]
  },
  {
   "cell_type": "code",
   "execution_count": null,
   "metadata": {},
   "outputs": [],
   "source": [
    "matplotlib.pyplot.plot(range(len(interactome)), curve_GBA, label=f\"GBA centrality (alpha={ALPHA})\", color=\"#D41159\")\n",
    "matplotlib.pyplot.plot(range(len(interactome)), curve_RWR, label=f\"RWR (r={ALPHA})\", color=\"#1A85FF\")\n",
    "matplotlib.pyplot.plot(range(len(interactome)), curve_pagerank, label=f\"PageRank (alpha={ALPHA})\", color=\"#FFC107\")\n",
    "matplotlib.pyplot.plot(range(len(interactome)), curve_random, label=\"random\", color=\"#117733\")\n",
    "\n",
    "# if statements below are convenient for plotting\n",
    "if PHENOTYPE in [\"MMAF\", \"NOA\", \"OG\", \"PCD\", \"POF\"]:\n",
    "    matplotlib.pyplot.title(f\"Empirical CDF\\n{PHENOTYPE}\", weight='bold', fontsize=12)\n",
    "elif PHENOTYPE == \"BC\":\n",
    "    matplotlib.pyplot.title(f\"Empirical CDF\\nbreast cancer\", weight='bold', fontsize=12)\n",
    "elif PHENOTYPE == \"CC\":\n",
    "    matplotlib.pyplot.title(f\"Empirical CDF\\ncolon cancer\", weight='bold', fontsize=12)\n",
    "elif PHENOTYPE == \"HYPCARD\":\n",
    "    matplotlib.pyplot.title(f\"Empirical CDF\\nhypertrophic cardiomyopathy\", weight='bold', fontsize=12)\n",
    "elif PHENOTYPE == \"DILCARD\":\n",
    "    matplotlib.pyplot.title(f\"Empirical CDF\\ndilated cardiomyopathy\", weight='bold', fontsize=12)\n",
    "\n",
    "matplotlib.pyplot.xlabel(\"x\")\n",
    "matplotlib.pyplot.ylabel(\"Number of causal genes where rank < x\")\n",
    "matplotlib.pyplot.legend(loc='lower right')\n",
    "matplotlib.pyplot.savefig(FIGURES_DIR + f\"GBA_vs_RWR_vs_PageRank_{PHENOTYPE}_CDF\", dpi=1000)"
   ]
  },
  {
   "cell_type": "code",
   "execution_count": null,
   "metadata": {},
   "outputs": [],
   "source": [
    "# \"Are GBA centrality ranks higher than random classifier ranks?\"\n",
    "scipy.stats.wilcoxon(ranks_random, ranks_GBA, alternative=\"greater\")"
   ]
  },
  {
   "cell_type": "code",
   "execution_count": null,
   "metadata": {},
   "outputs": [],
   "source": [
    "# \"Are GBA centrality ranks higher than RWR ranks?\"\n",
    "scipy.stats.wilcoxon(ranks_RWR, ranks_GBA, alternative=\"greater\")"
   ]
  },
  {
   "cell_type": "code",
   "execution_count": null,
   "metadata": {},
   "outputs": [],
   "source": [
    "# \"Are GBA centrality ranks higher than PageRank ranks?\"\n",
    "scipy.stats.wilcoxon(ranks_pagerank, ranks_GBA, alternative=\"greater\")"
   ]
  },
  {
   "cell_type": "code",
   "execution_count": null,
   "metadata": {},
   "outputs": [],
   "source": [
    "# plot a CDF-histogram\n",
    "\n",
    "xs = numpy.linspace(0, max(ranks_RWR), len(ranks_RWR))\n",
    "matplotlib.pyplot.hist([ranks_GBA, ranks_RWR, ranks_pagerank],\n",
    "                       xs,\n",
    "                       label=[f\"GBA centrality alpha={ALPHA}\", f\"RWR r={ALPHA}\", f\"PageRank alpha={ALPHA}\"],\n",
    "                       cumulative=True,\n",
    "                       color=[\"#D41159\", \"#1A85FF\", \"#FFC107\"])\n",
    "matplotlib.pyplot.title(f\"{PHENOTYPE}\")\n",
    "matplotlib.pyplot.xlabel(\"Rank\")\n",
    "matplotlib.pyplot.ylabel(\"Count\")\n",
    "matplotlib.pyplot.legend()"
   ]
  },
  {
   "cell_type": "code",
   "execution_count": null,
   "metadata": {},
   "outputs": [],
   "source": [
    "# compare GBA centrality rank vs RWR rank for each left-out gene\n",
    "\n",
    "matplotlib.pyplot.scatter(x=ranks_RWR, y=ranks_GBA)\n",
    "matplotlib.pyplot.xlabel(\"RWR rank\")\n",
    "matplotlib.pyplot.ylabel(\"GBA centrality rank\")\n",
    "\n",
    "if PHENOTYPE in [\"MMAF\", \"NOA\", \"OG\", \"PCD\", \"POF\"]:\n",
    "    matplotlib.pyplot.title(f\"Known causal gene ranks\\n{PHENOTYPE}\", weight='bold', fontsize=12)\n",
    "elif PHENOTYPE == \"BC\":\n",
    "    matplotlib.pyplot.title(f\"Known causal gene ranks\\nbreast cancer\", weight='bold', fontsize=12)\n",
    "elif PHENOTYPE == \"CC\":\n",
    "    matplotlib.pyplot.title(f\"Known causal gene ranks\\ncolon cancer\", weight='bold', fontsize=12)\n",
    "elif PHENOTYPE == \"HYPCARD\":\n",
    "    matplotlib.pyplot.title(f\"Known causal gene ranks\\nhypertrophic cardiomyopathy\", weight='bold', fontsize=12)\n",
    "elif PHENOTYPE == \"DILCARD\":\n",
    "    matplotlib.pyplot.title(f\"Known causal gene ranks\\ndilated cardiomyopathy\", weight='bold', fontsize=12)\n",
    "\n",
    "ticks  = numpy.arange(0, len(interactome), step=2000)\n",
    "ticks[0] = 1\n",
    "ticks = ticks[::-1]\n",
    "\n",
    "matplotlib.pyplot.xticks(ticks, fontsize=8.5)\n",
    "matplotlib.pyplot.yticks(ticks, fontsize=8.5)\n",
    "\n",
    "matplotlib.pyplot.axis('square')\n",
    "\n",
    "matplotlib.pyplot.grid(True, linestyle='--', which='major',\n",
    "                   color='grey', alpha=0.2)\n",
    "\n",
    "matplotlib.pyplot.savefig(FIGURES_DIR + f\"GBA_vs_RWR_{PHENOTYPE}_scatter\", dpi=1000)"
   ]
  },
  {
   "cell_type": "code",
   "execution_count": null,
   "metadata": {},
   "outputs": [],
   "source": [
    "# compare GBA centrality rank vs PageRank rank for each left-out gene\n",
    "\n",
    "matplotlib.pyplot.scatter(x=ranks_pagerank, y=ranks_GBA)\n",
    "matplotlib.pyplot.xlabel(\"PageRank rank\")\n",
    "matplotlib.pyplot.ylabel(\"GBA centrality rank\")\n",
    "\n",
    "if PHENOTYPE in [\"MMAF\", \"NOA\", \"OG\", \"PCD\", \"POF\"]:\n",
    "    matplotlib.pyplot.title(f\"Known causal gene ranks\\n{PHENOTYPE}\", weight='bold', fontsize=12)\n",
    "elif PHENOTYPE == \"BC\":\n",
    "    matplotlib.pyplot.title(f\"Known causal gene ranks\\nbreast cancer\", weight='bold', fontsize=12)\n",
    "elif PHENOTYPE == \"CC\":\n",
    "    matplotlib.pyplot.title(f\"Known causal gene ranks\\ncolon cancer\", weight='bold', fontsize=12)\n",
    "elif PHENOTYPE == \"HYPCARD\":\n",
    "    matplotlib.pyplot.title(f\"Known causal gene ranks\\nhypertrophic cardiomyopathy\", weight='bold', fontsize=12)\n",
    "elif PHENOTYPE == \"DILCARD\":\n",
    "    matplotlib.pyplot.title(f\"Known causal gene ranks\\ndilated cardiomyopathy\", weight='bold', fontsize=12)\n",
    "\n",
    "ticks  = numpy.arange(0, len(interactome), step=2000)\n",
    "ticks[0] = 1\n",
    "ticks = ticks[::-1]\n",
    "\n",
    "matplotlib.pyplot.xticks(ticks, fontsize=8.5)\n",
    "matplotlib.pyplot.yticks(ticks, fontsize=8.5)\n",
    "\n",
    "matplotlib.pyplot.axis('square')\n",
    "\n",
    "matplotlib.pyplot.grid(True, linestyle='--', which='major',\n",
    "                   color='grey', alpha=0.2)\n",
    "\n",
    "matplotlib.pyplot.savefig(FIGURES_DIR + f\"GBA_vs_PageRank_{PHENOTYPE}_scatter\", dpi=1000)"
   ]
  },
  {
   "cell_type": "code",
   "execution_count": null,
   "metadata": {},
   "outputs": [],
   "source": [
    "# compare RWR rank vs PageRank rank for each left-out gene\n",
    "\n",
    "matplotlib.pyplot.scatter(x=ranks_pagerank, y=ranks_RWR)\n",
    "matplotlib.pyplot.xlabel(\"PageRank rank\")\n",
    "matplotlib.pyplot.ylabel(\"RWR rank\")\n",
    "\n",
    "if PHENOTYPE in [\"MMAF\", \"NOA\", \"OG\", \"PCD\", \"POF\"]:\n",
    "    matplotlib.pyplot.title(f\"Known causal gene ranks\\n{PHENOTYPE}\", weight='bold', fontsize=12)\n",
    "elif PHENOTYPE == \"BC\":\n",
    "    matplotlib.pyplot.title(f\"Known causal gene ranks\\nbreast cancer\", weight='bold', fontsize=12)\n",
    "elif PHENOTYPE == \"CC\":\n",
    "    matplotlib.pyplot.title(f\"Known causal gene ranks\\ncolon cancer\", weight='bold', fontsize=12)\n",
    "elif PHENOTYPE == \"HYPCARD\":\n",
    "    matplotlib.pyplot.title(f\"Known causal gene ranks\\nhypertrophic cardiomyopathy\", weight='bold', fontsize=12)\n",
    "elif PHENOTYPE == \"DILCARD\":\n",
    "    matplotlib.pyplot.title(f\"Known causal gene ranks\\ndilated cardiomyopathy\", weight='bold', fontsize=12)\n",
    "\n",
    "ticks  = numpy.arange(0, len(interactome), step=2000)\n",
    "ticks[0] = 1\n",
    "ticks = ticks[::-1]\n",
    "\n",
    "matplotlib.pyplot.xticks(ticks, fontsize=8.5)\n",
    "matplotlib.pyplot.yticks(ticks, fontsize=8.5)\n",
    "\n",
    "matplotlib.pyplot.axis('square')\n",
    "\n",
    "matplotlib.pyplot.grid(True, linestyle='--', which='major',\n",
    "                   color='grey', alpha=0.2)\n",
    "\n",
    "matplotlib.pyplot.savefig(FIGURES_DIR + f\"RWR_vs_PageRank_{PHENOTYPE}_scatter\", dpi=1000)"
   ]
  }
 ],
 "metadata": {
  "kernelspec": {
   "display_name": "pyEnv_GBA",
   "language": "python",
   "name": "python3"
  },
  "language_info": {
   "codemirror_mode": {
    "name": "ipython",
    "version": 3
   },
   "file_extension": ".py",
   "mimetype": "text/x-python",
   "name": "python",
   "nbconvert_exporter": "python",
   "pygments_lexer": "ipython3",
   "version": "3.12.5"
  }
 },
 "nbformat": 4,
 "nbformat_minor": 2
}
