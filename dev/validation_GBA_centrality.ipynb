{
 "cells": [
  {
   "cell_type": "markdown",
   "metadata": {},
   "source": [
    "## This is a notebook for the validation of GBA centrality\n",
    "\n",
    "Contents:\n",
    "\n",
    "- **Part I: Tissue-enrichment validation**\n",
    "\n",
    "    We compare the ratio of predicted causal genes enriched in the tissue with the ratio of all genes enriched in the tissue. We compare the two ratios using the Fisher exact test to answer the question: \"Are predicted causal genes significantly enriched in the tissue of interest?\". In addtion, we compare ratios of predicted causal genes enriched in the tissue for GBA centrality and Random Walk with Restart (RWR).\n",
    "\n",
    "- **Part II: Leave-one-out validation**\n",
    "\n",
    "    This is a comparison between empirical CDF (cumulative distribution function) for GBA centrality and Random Walk with Restart (RWR). We compare the two distributions using the Wilcoxon signed-rank test."
   ]
  },
  {
   "cell_type": "code",
   "execution_count": null,
   "metadata": {},
   "outputs": [],
   "source": [
    "import sys\n",
    "\n",
    "import scipy\n",
    "import numpy\n",
    "\n",
    "import networkx\n",
    "\n",
    "import random\n",
    "\n",
    "import matplotlib.pyplot\n",
    "\n",
    "sys.path.append(\"../scripts\")\n",
    "import data_parser"
   ]
  },
  {
   "cell_type": "code",
   "execution_count": null,
   "metadata": {},
   "outputs": [],
   "source": [
    "def parse_scores(scores_file):\n",
    "    '''\n",
    "    Loads the scores generated with GBA_centrality_PR.py\n",
    "    Returns:\n",
    "    - ENSG2score: dict with key=ENSG, value=score\n",
    "    - gene2ENSG: dict with key=gene, value=ENSG\n",
    "    - ENSG2gene: dict key=ENSG, value=gene\n",
    "    '''\n",
    "    ENSG2score = {}\n",
    "    gene2ENSG = {}\n",
    "    ENSG2gene = {}\n",
    " \n",
    "    with open(scores_file, 'r') as f:\n",
    "        # skip header\n",
    "        next(f)\n",
    "\n",
    "        data = f.read().splitlines()\n",
    "        for line in data:\n",
    "            split_line = line.rstrip().split('\\t')\n",
    "            ENSG, gene, score = split_line\n",
    "\n",
    "            ENSG2score[ENSG] = float(score)\n",
    "            gene2ENSG[gene] = ENSG\n",
    "            ENSG2gene[ENSG] = gene\n",
    "\n",
    "    return ENSG2score, gene2ENSG, ENSG2gene"
   ]
  },
  {
   "cell_type": "code",
   "execution_count": null,
   "metadata": {},
   "outputs": [],
   "source": [
    "def parse_RWR_scores(scores_file):\n",
    "    '''\n",
    "    Loads the scores generated with MultiXrank\n",
    "    Returns:\n",
    "    - ENSG2score: dict with key=ENSG, value=score\n",
    "    '''\n",
    "    ENSG2score = {}\n",
    " \n",
    "    with open(scores_file, 'r') as f:\n",
    "        # skip header\n",
    "        next(f)\n",
    "\n",
    "        data = f.read().splitlines()\n",
    "        for line in data:\n",
    "            split_line = line.rstrip().split('\\t')\n",
    "            _, ENSG, score = split_line\n",
    "\n",
    "            ENSG2score[ENSG] = float(score)\n",
    "\n",
    "    return ENSG2score"
   ]
  },
  {
   "cell_type": "code",
   "execution_count": null,
   "metadata": {},
   "outputs": [],
   "source": [
    "def parse_expression_data(expression_data, interactome):\n",
    "    '''\n",
    "    Loads a TSV file with columns: ENSG\\tgene_expression_ratio\n",
    "    Returns a dictionary: key=ENSG, value=gene_expression_ratio\n",
    "    '''\n",
    "    tissue_expression = {}\n",
    "\n",
    "    with open(expression_data) as f:\n",
    "        # skip header\n",
    "        for _ in range(4):\n",
    "            next(f)\n",
    "        header = next(f)\n",
    "        if not header.startswith(\"Gene ID\"):\n",
    "            raise Exception(\"Expression data file wrong header\")\n",
    "        \n",
    "        for line in f:\n",
    "            split_line = line.rstrip().split('\\t', maxsplit=2)\n",
    "            ENSG, tissue_ratio, _ = split_line\n",
    "\n",
    "            if ENSG in interactome:\n",
    "                tissue_expression[ENSG] = float(tissue_ratio)\n",
    "    \n",
    "    return tissue_expression"
   ]
  },
  {
   "cell_type": "code",
   "execution_count": null,
   "metadata": {},
   "outputs": [],
   "source": [
    "def take_top_percent(list, x):\n",
    "    '''\n",
    "    Finds the top x% of values in a list\n",
    "    Returns: \n",
    "    - top: list with top x% of values\n",
    "    - rest: list with the rest of values\n",
    "    '''\n",
    "    num_elements = round(len(list) * x/100)\n",
    "    # num_elements = max(num_elements)\n",
    "\n",
    "    top = list[:num_elements]\n",
    "    rest = list[num_elements:]\n",
    "    \n",
    "    return top, rest"
   ]
  },
  {
   "cell_type": "code",
   "execution_count": null,
   "metadata": {},
   "outputs": [],
   "source": [
    "def intersection(list_1, list_2):\n",
    "    '''\n",
    "    Returns a list with common elements for two lists\n",
    "    '''\n",
    "    return list(set(list_1) & set(list_2))"
   ]
  },
  {
   "cell_type": "code",
   "execution_count": null,
   "metadata": {},
   "outputs": [],
   "source": [
    "def format_pvalue(pvalue):\n",
    "    '''Returns the p-value in the notation: \"1.00e-2**\" '''\n",
    "    p = '{:.2e}'.format(pvalue)\n",
    "\n",
    "    if pvalue <= 0.0001:\n",
    "        return \"p < 10^-4****\"\n",
    "    elif pvalue <= 0.001:\n",
    "        return \"p < 10^-3***\"\n",
    "    elif pvalue <= 0.01:\n",
    "        return \"p < 0.01**\"\n",
    "    elif pvalue <= 0.05:\n",
    "        return \"p < 0.05*\"    \n",
    "    return f\"p = {p}\""
   ]
  },
  {
   "cell_type": "markdown",
   "metadata": {},
   "source": [
    "### Set parameters and paths"
   ]
  },
  {
   "cell_type": "code",
   "execution_count": null,
   "metadata": {},
   "outputs": [],
   "source": [
    "'''Set parameters with which the GBA_centrality_PR.py was run'''\n",
    "PHENOTYPE = \"MMAF\" # to choose from: MMAF, NOA, DILCARD, HYPCARD, BC (breast cancer), CC (colon cancer)\n",
    "ALPHA = 0.5\n",
    "alpha = str(ALPHA).replace('.', '')\n",
    "D_MAX = 10"
   ]
  },
  {
   "cell_type": "code",
   "execution_count": null,
   "metadata": {},
   "outputs": [],
   "source": [
    "INTERACTOME_FILE = \"../input/Interactome_human.sif\"\n",
    "\n",
    "RESULTS_FILE = f\"../output/{PHENOTYPE}/alpha{alpha}_d{D_MAX}/scores.tsv\"\n",
    "LEAVE_ONE_OUT_FILE = f\"../output/{PHENOTYPE}/alpha{alpha}_d{D_MAX}/scores_leave_one_out.tsv\"\n",
    "\n",
    "RESULTS_RWR_FILE = f\"/home/kubicaj/workspace/MultiXrank/{PHENOTYPE}/output_{PHENOTYPE}/multiplex_1.tsv\""
   ]
  },
  {
   "cell_type": "code",
   "execution_count": null,
   "metadata": {},
   "outputs": [],
   "source": [
    "'''Data and parameters for Part II: Tissue-enrichment validation'''\n",
    "PRED_CAUSAL_DEF = 10 # [%]\n",
    "TISSUE_ENRICHED_DEF = 10 # [%]\n",
    "\n",
    "TISSUE = \"testis\" # to choose from: testis, breast, colon, heart\n",
    "\n",
    "GTEX_DATA_FILE = f\"E-MTAB-5214-query-results-{TISSUE}-ratio.tpms.tsv\""
   ]
  },
  {
   "cell_type": "code",
   "execution_count": null,
   "metadata": {},
   "outputs": [],
   "source": [
    "'''Set path for output figures'''\n",
    "FIGURES_DIR = \"/home/kubicaj/workspace/Interactome-TIMC/dev/figures/\""
   ]
  },
  {
   "cell_type": "markdown",
   "metadata": {},
   "source": [
    "### Load data"
   ]
  },
  {
   "cell_type": "code",
   "execution_count": null,
   "metadata": {},
   "outputs": [],
   "source": [
    "'''Parse interactome'''\n",
    "interactome = data_parser.parse_interactome(interactome_file=INTERACTOME_FILE)\n",
    "print(f\"Interactome: {len(interactome.nodes())} proteins, {len(interactome.edges())} interactions\")"
   ]
  },
  {
   "cell_type": "code",
   "execution_count": null,
   "metadata": {},
   "outputs": [],
   "source": [
    "'''Load GBA centrality scores and leave-one-out results, then sort them by descending scores'''\n",
    "ENSG2score_all, gene2ENSG, ENSG2gene = parse_scores(RESULTS_FILE)\n",
    "ENSG2score_leaveOneOut, _, _ = parse_scores(LEAVE_ONE_OUT_FILE)\n",
    "\n",
    "ENSG2score = ENSG2score_all.copy()\n",
    "\n",
    "# remove seed proteins from scores\n",
    "for gene in ENSG2score_leaveOneOut:\n",
    "    del ENSG2score[gene]\n",
    "\n",
    "results_sorted = sorted(ENSG2score.keys(), key=lambda item: ENSG2score[item], reverse=True)\n",
    "scores_sorted = [ENSG2score[node] for node in results_sorted]\n",
    "\n",
    "results_leave_one_out_sorted = sorted(ENSG2score_leaveOneOut.keys(),\n",
    "                                      key=lambda item: ENSG2score_leaveOneOut[item],\n",
    "                                      reverse=True)\n",
    "scores_leave_one_out_sorted = [ENSG2score_leaveOneOut[node] for node in results_leave_one_out_sorted]"
   ]
  },
  {
   "cell_type": "code",
   "execution_count": null,
   "metadata": {},
   "outputs": [],
   "source": [
    "'''Load tissue expression from grexome-TIMC-Secondary-interactome/GTEX_Data'''\n",
    "tissue_expr = parse_expression_data(GTEX_DATA_FILE, interactome=interactome)"
   ]
  },
  {
   "cell_type": "markdown",
   "metadata": {},
   "source": [
    "### Part I: Tissue-enrichment validation"
   ]
  },
  {
   "cell_type": "code",
   "execution_count": null,
   "metadata": {},
   "outputs": [],
   "source": [
    "'''Get top x% of highest-scoring genes (including causal)'''\n",
    "\n",
    "# due to obsolete GTEx data, ...\n",
    "for gene in interactome:\n",
    "    if gene not in tissue_expr:\n",
    "        del ENSG2score_all[gene]\n",
    "\n",
    "results_all_sorted = sorted(ENSG2score_all.keys(), key=lambda item: ENSG2score_all[item], reverse=True)\n",
    "pred_causal, non_pred_causal = take_top_percent(results_all_sorted, PRED_CAUSAL_DEF)\n",
    "\n",
    "print(f\"Selected {len(pred_causal)} higest-scoring genes\")"
   ]
  },
  {
   "cell_type": "code",
   "execution_count": null,
   "metadata": {},
   "outputs": [],
   "source": [
    "'''Get top x% of genes enriched in the tissue'''\n",
    "tissue_expr_sorted = sorted(tissue_expr.keys(), key=lambda item: tissue_expr[item], reverse=True)\n",
    "tissue_enriched, non_tissue_enriched = take_top_percent(tissue_expr_sorted, TISSUE_ENRICHED_DEF)\n",
    "\n",
    "print(f\"Selected {len(tissue_enriched)} {TISSUE}-enriched genes\")"
   ]
  },
  {
   "cell_type": "code",
   "execution_count": null,
   "metadata": {},
   "outputs": [],
   "source": [
    "'''Construct a contingency matrix for the Fisher exact test'''\n",
    "x1 = len(intersection(pred_causal, tissue_enriched))\n",
    "x2 = len(intersection(non_pred_causal, tissue_enriched))\n",
    "x3 = len(intersection(pred_causal, non_tissue_enriched))\n",
    "x4 = len(intersection(non_pred_causal, non_tissue_enriched))\n",
    "\n",
    "contingency_matrix = [[x1, x2], [x3, x4]]\n",
    "\n",
    "# plot the contingency table\n",
    "fig, ax = matplotlib.pyplot.subplots()\n",
    "table = ax.table(contingency_matrix, \n",
    "                 rowLabels=[f'{TISSUE}', f'non-{TISSUE}'], \n",
    "                 colLabels=[f'pred {PHENOTYPE}', f'non-pred {PHENOTYPE}'], \n",
    "                 loc=\"center\")\n",
    "ax.axis('tight')\n",
    "ax.axis('off')\n",
    "table.set_fontsize(14)\n",
    "table.scale(1,2)"
   ]
  },
  {
   "cell_type": "code",
   "execution_count": null,
   "metadata": {},
   "outputs": [],
   "source": [
    "''' \n",
    "Check if the ratio of predicted causal proteins enriched in the tissue is greater \n",
    "than the ratio of all proteins enriched in the tissue\n",
    "\n",
    "Note: alternative='greater' is the probability that a random table has x >= a, \n",
    "where contingency_matrix = [[a, b], [c, d]]\n",
    "'''\n",
    "_, p_tissue_expr = scipy.stats.fisher_exact(contingency_matrix, alternative='greater')\n",
    "\n",
    "p_tissue_expr = format_pvalue(pvalue=p_tissue_expr)\n",
    "print(f\"{p_tissue_expr}\")"
   ]
  },
  {
   "cell_type": "code",
   "execution_count": null,
   "metadata": {},
   "outputs": [],
   "source": [
    "proportion1 = x1 / (x1 + x3) # ratio of predicted causal genes that are tissue-enriched\n",
    "proportion2 = (x1 + x2) / (x1 + x2 + x3 + x4) # ratio of all genes that are tissue-enriched\n",
    "\n",
    "labels = [f\"Predicted causal genes\\nthat are enriched in {TISSUE}\", \n",
    "          f\"All genes that are enriched in {TISSUE}\"]\n",
    "\n",
    "matplotlib.pyplot.bar(x=labels, height=[proportion1, proportion2], color=['#853A22', '#112E51'])\n",
    "matplotlib.pyplot.title(f\"{TISSUE.capitalize()} enrichment analysis\\n of predicted {PHENOTYPE} genes\\n({len(ENSG2score_leaveOneOut)} causal genes)\", weight='bold', fontsize=12)\n",
    "\n",
    "# plot p-value\n",
    "h = .1 * max(proportion1, proportion2)\n",
    "y = max(proportion1, proportion2) + h\n",
    "\n",
    "matplotlib.pyplot.plot([labels[0], labels[0], labels[1], labels[1]], [y, y+h, y+h, y], lw=1, c='black')\n",
    "matplotlib.pyplot.text(x=0.35,y=y+2*h, s=f\"{p_tissue_expr}\")\n",
    "\n",
    "y_max = 2*max(proportion1, proportion2)\n",
    "matplotlib.pyplot.yticks(numpy.arange(0, y_max, 0.05))\n",
    "matplotlib.pyplot.ylabel(\"Ratio\")\n",
    "\n",
    "matplotlib.pyplot.grid(True, linestyle='--', which='major',\n",
    "                   color='grey', alpha=.25)\n",
    "\n",
    "# matplotlib.pyplot.savefig(FIGURES_DIR + f\"{PHENOTYPE}_tissue_enrichment\", dpi=1000)"
   ]
  },
  {
   "cell_type": "markdown",
   "metadata": {},
   "source": [
    "### Part II: Tissue-enrichment validation: Comparison to RWR"
   ]
  },
  {
   "cell_type": "code",
   "execution_count": null,
   "metadata": {},
   "outputs": [],
   "source": [
    "'''Load MultiXrank scores and leave-one-out results, then sort them by descending scores'''\n",
    "ENSG2score_RWR = parse_RWR_scores(RESULTS_RWR_FILE)"
   ]
  },
  {
   "cell_type": "code",
   "execution_count": null,
   "metadata": {},
   "outputs": [],
   "source": [
    "'''Get top x% of highest-scoring genes (including causal)'''\n",
    "\n",
    "# due to obsolete GTEx data, ...\n",
    "for gene in interactome:\n",
    "    if gene not in tissue_expr:\n",
    "        del ENSG2score_RWR[gene]\n",
    "\n",
    "results_RWR_sorted = sorted(ENSG2score_RWR.keys(), key=lambda item: ENSG2score_RWR[item], reverse=True)\n",
    "pred_causal_RWR, non_pred_causal_RWR = take_top_percent(results_RWR_sorted, PRED_CAUSAL_DEF)\n",
    "\n",
    "print(f\"Selected {len(pred_causal)} higest-scoring genes\")"
   ]
  },
  {
   "cell_type": "code",
   "execution_count": null,
   "metadata": {},
   "outputs": [],
   "source": [
    "'''Construct a contingency matrix for the Fisher exact test'''\n",
    "x1 = len(intersection(pred_causal_RWR, tissue_enriched))\n",
    "x2 = len(intersection(non_pred_causal_RWR, tissue_enriched))\n",
    "x3 = len(intersection(pred_causal_RWR, non_tissue_enriched))\n",
    "x4 = len(intersection(non_pred_causal_RWR, non_tissue_enriched))\n",
    "\n",
    "contingency_matrix = [[x1, x2], [x3, x4]]\n",
    "\n",
    "# plot the contingency table\n",
    "fig, ax = matplotlib.pyplot.subplots()\n",
    "table = ax.table(contingency_matrix, \n",
    "                 rowLabels=[f'{TISSUE}', f'non-{TISSUE}'], \n",
    "                 colLabels=[f'pred {PHENOTYPE}', f'non-pred {PHENOTYPE}'], \n",
    "                 loc=\"center\")\n",
    "ax.axis('tight')\n",
    "ax.axis('off')\n",
    "table.set_fontsize(14)\n",
    "table.scale(1,2)"
   ]
  },
  {
   "cell_type": "code",
   "execution_count": null,
   "metadata": {},
   "outputs": [],
   "source": [
    "''' \n",
    "Check if the ratio of predicted causal genes enriched in the tissue is greater \n",
    "than the ratio of all genes enriched in the tissue\n",
    "\n",
    "Note: alternative='greater' is the probability that a random table has x >= a, \n",
    "where contingency_matrix = [[a, b], [c, d]]\n",
    "'''\n",
    "_, p_tissue_expr = scipy.stats.fisher_exact(contingency_matrix, alternative='greater')\n",
    "\n",
    "p_tissue_expr = format_pvalue(pvalue=p_tissue_expr)\n",
    "print(f\"{p_tissue_expr}\")"
   ]
  },
  {
   "cell_type": "code",
   "execution_count": null,
   "metadata": {},
   "outputs": [],
   "source": [
    "proportion1 = x1 / (x1 + x3) # ratio of predicted causal genes that are tissue-enriched\n",
    "proportion2 = (x1 + x2) / (x1 + x2 + x3 + x4) # ratio of all genes that are tissue-enriched\n",
    "\n",
    "labels = [f\"Predicted causal genes\\nthat are enriched in {TISSUE}\", \n",
    "          f\"All proteins that are enriched in {TISSUE}\"]\n",
    "\n",
    "matplotlib.pyplot.bar(x=labels, height=[proportion1, proportion2], color=['#853A22', '#112E51'])\n",
    "matplotlib.pyplot.title(f\"{TISSUE.capitalize()} enrichment analysis\\nof predicted {PHENOTYPE} genes\\n({len(ENSG2score_leaveOneOut)} seed genes) - RWR\", weight='bold', fontsize=12)\n",
    "\n",
    "# plot p-value\n",
    "h = .1 * max(proportion1, proportion2)\n",
    "y = max(proportion1, proportion2) + h\n",
    "\n",
    "matplotlib.pyplot.plot([labels[0], labels[0], labels[1], labels[1]], [y, y+h, y+h, y], lw=1, c='black')\n",
    "matplotlib.pyplot.text(x=0.35,y=y+2*h, s=f\"{p_tissue_expr}\")\n",
    "\n",
    "y_max = 2*max(proportion1, proportion2)\n",
    "matplotlib.pyplot.yticks(numpy.arange(0, y_max, 0.05))\n",
    "matplotlib.pyplot.ylabel(\"Ratio\")\n",
    "\n",
    "matplotlib.pyplot.grid(True, linestyle='--', which='major',\n",
    "                   color='grey', alpha=.25)\n",
    "\n",
    "# matplotlib.pyplot.savefig(FIGURES_DIR + f\"RWR_{PHENOTYPE}_tissue_enrichment\", dpi=1000)"
   ]
  },
  {
   "cell_type": "markdown",
   "metadata": {},
   "source": [
    "#### Compare directly GBA centrality vs RWR"
   ]
  },
  {
   "cell_type": "code",
   "execution_count": null,
   "metadata": {},
   "outputs": [],
   "source": [
    "'''Construct a contingency matrix for the Fisher exact test to compare GBA centrality and RWR'''\n",
    "x1 = len(intersection(pred_causal, tissue_enriched))\n",
    "x2 = len(intersection(pred_causal, non_tissue_enriched))\n",
    "x3 = len(intersection(pred_causal_RWR, tissue_enriched))\n",
    "x4 = len(intersection(pred_causal_RWR, non_tissue_enriched))\n",
    "\n",
    "contingency_matrix = [[x1, x2], [x3, x4]]\n",
    "\n",
    "# plot the contingency table\n",
    "fig, ax = matplotlib.pyplot.subplots()\n",
    "table = ax.table(contingency_matrix, \n",
    "                 rowLabels=[f'Pred {PHENOTYPE} (GBA centrality)', f'Pred {PHENOTYPE} (RWR)'], \n",
    "                 colLabels=[f'{TISSUE}', f'non-{TISSUE}'], \n",
    "                 loc=\"center\")\n",
    "ax.axis('tight')\n",
    "ax.axis('off')\n",
    "table.set_fontsize(14)\n",
    "table.scale(1,2)"
   ]
  },
  {
   "cell_type": "code",
   "execution_count": null,
   "metadata": {},
   "outputs": [],
   "source": [
    "''' \n",
    "Check if the ratio of predicted causal genes enriched in the tissue is greater\n",
    "for GBA centrality than for RWR\n",
    "\n",
    "Note: alternative='greater' is the probability that a random table has x >= a, \n",
    "where contingency_matrix = [[a, b], [c, d]]\n",
    "'''\n",
    "_, p_tissue_expr = scipy.stats.fisher_exact(contingency_matrix, alternative='greater')\n",
    "\n",
    "p_tissue_expr = format_pvalue(pvalue=p_tissue_expr)\n",
    "print(f\"{p_tissue_expr}\")"
   ]
  },
  {
   "cell_type": "code",
   "execution_count": null,
   "metadata": {},
   "outputs": [],
   "source": [
    "proportion1 = x1 / (x1 + x2) # ratio of predicted causal genes that are tissue-enriched (GBA centrality)\n",
    "proportion2 = x3 / (x3 + x4) # ratio of predicted causal genes that are tissue-enriched (RWR)\n",
    "\n",
    "labels = [f\"Predicted causal genes\\nthat are enriched in {TISSUE}\\n(GBA centrality)\", \n",
    "          f\"Predicted causal genes\\nthat are enriched in {TISSUE}\\n(RWR)\"]\n",
    "\n",
    "matplotlib.pyplot.bar(x=labels, height=[proportion1, proportion2], color=['#E1BE6A', '#40B0A6'])\n",
    "matplotlib.pyplot.title(f\"{TISSUE.capitalize()} enrichment analysis\\nof predicted {PHENOTYPE} genes\\nGBA centrality vs RWR\", weight='bold', fontsize=12)\n",
    "\n",
    "# plot p-value\n",
    "h = .1 * max(proportion1, proportion2)\n",
    "y = max(proportion1, proportion2) + h\n",
    "\n",
    "matplotlib.pyplot.plot([labels[0], labels[0], labels[1], labels[1]], [y, y+h, y+h, y], lw=1, c='black')\n",
    "matplotlib.pyplot.text(x=0.35,y=y+2*h, s=f\"{p_tissue_expr}\")\n",
    "\n",
    "y_max = 2*max(proportion1, proportion2)\n",
    "matplotlib.pyplot.yticks(numpy.arange(0, y_max, 0.05))\n",
    "matplotlib.pyplot.ylabel(\"Ratio\")\n",
    "\n",
    "matplotlib.pyplot.grid(True, linestyle='--', which='major',\n",
    "                   color='grey', alpha=0.2)\n",
    "\n",
    "# matplotlib.pyplot.savefig(FIGURES_DIR + f\"GBA_vs_RWR_{PHENOTYPE}_tissue_enrichment\", dpi=1000)"
   ]
  },
  {
   "cell_type": "markdown",
   "metadata": {},
   "source": [
    "### Part III: Leave-one-out validation: Comparison to RWR"
   ]
  },
  {
   "cell_type": "code",
   "execution_count": null,
   "metadata": {},
   "outputs": [],
   "source": [
    "def parse_RWR_ranks(ranks_file):\n",
    "    '''\n",
    "    Loads the ranks generated with MultiXrank\n",
    "    Returns:\n",
    "    - ENSG2rank: dict with key=ENSG, value=rank\n",
    "    '''\n",
    "    ENSG2rank = {}\n",
    " \n",
    "    with open(ranks_file, 'r') as f:\n",
    "        data = f.read().splitlines()\n",
    "        for line in data:\n",
    "            split_line = line.rstrip().split('\\t')\n",
    "            ENSG, rank = split_line\n",
    "\n",
    "            ENSG2rank[ENSG] = int(rank)\n",
    "\n",
    "    return ENSG2rank"
   ]
  },
  {
   "cell_type": "code",
   "execution_count": null,
   "metadata": {},
   "outputs": [],
   "source": [
    "def parse_GBA_ranks(ranks_file):\n",
    "    '''\n",
    "    Loads the scores generated with GBA_centrality_PR.py\n",
    "    Returns:\n",
    "    - ENSG2rank: dict with key=ENSG, value=rank\n",
    "    - gene2ENSG: dict with key=gene, value=ENSG\n",
    "    - ENSG2gene: dict key=ENSG, value=gene\n",
    "    '''\n",
    "    ENSG2rank = {}\n",
    "    gene2ENSG = {}\n",
    "    ENSG2gene = {}\n",
    " \n",
    "    with open(ranks_file, 'r') as f:\n",
    "        # skip header\n",
    "        next(f)\n",
    "\n",
    "        data = f.read().splitlines()\n",
    "        for line in data:\n",
    "            split_line = line.rstrip().split('\\t')\n",
    "            ENSG, gene, rank = split_line\n",
    "\n",
    "            ENSG2rank[ENSG] = int(rank)\n",
    "            gene2ENSG[gene] = ENSG\n",
    "            ENSG2gene[ENSG] = gene\n",
    "\n",
    "    return ENSG2rank, gene2ENSG, ENSG2gene"
   ]
  },
  {
   "cell_type": "code",
   "execution_count": null,
   "metadata": {},
   "outputs": [],
   "source": [
    "ENSG2rank_RWR = parse_RWR_ranks(F\"/home/kubicaj/workspace/MultiXrank/{PHENOTYPE}/RWR_ranks_leave_one_out.tsv\")\n",
    "ENSG2rank_GBA, _, _ = parse_GBA_ranks(F\"/home/kubicaj/workspace/Interactome-TIMC/output/{PHENOTYPE}/alpha05_d10/ranks_leave_one_out.tsv\")"
   ]
  },
  {
   "cell_type": "code",
   "execution_count": null,
   "metadata": {},
   "outputs": [],
   "source": [
    "len(interactome)"
   ]
  },
  {
   "cell_type": "code",
   "execution_count": null,
   "metadata": {},
   "outputs": [],
   "source": [
    "ranks_RWR = []\n",
    "ranks_GBA = []\n",
    "ranks_random = []\n",
    "\n",
    "for gene in ENSG2rank_RWR:\n",
    "    ranks_RWR.append(ENSG2rank_RWR[gene])\n",
    "    ranks_GBA.append(ENSG2rank_GBA[gene])\n",
    "\n",
    "    rank = random.randint(1, len(interactome))\n",
    "    ranks_random.append(rank)"
   ]
  },
  {
   "cell_type": "code",
   "execution_count": null,
   "metadata": {},
   "outputs": [],
   "source": [
    "curve_RWR = []\n",
    "curve_GBA = []\n",
    "curve_random = []\n",
    "\n",
    "for i in range(len(interactome)):\n",
    "    curve_RWR.append(sum(rank <= i for rank in ranks_RWR))\n",
    "    curve_GBA.append(sum(rank <= i for rank in ranks_GBA))\n",
    "    curve_random.append(sum(rank <= i for rank in ranks_random))"
   ]
  },
  {
   "cell_type": "code",
   "execution_count": null,
   "metadata": {},
   "outputs": [],
   "source": [
    "matplotlib.pyplot.plot(range(len(interactome)), curve_RWR, label=\"RWR (r=0.5)\", color=\"#1A85FF\")\n",
    "matplotlib.pyplot.plot(range(len(interactome)), curve_GBA, label=\"GBA centrality (alpha=0.5)\", color=\"#D41159\")\n",
    "matplotlib.pyplot.plot(range(len(interactome)), curve_random, label=\"random\", color=\"#117733\")\n",
    "matplotlib.pyplot.title(f\"Empirical CDF\\n{PHENOTYPE}\")\n",
    "matplotlib.pyplot.xlabel(\"x\")\n",
    "matplotlib.pyplot.ylabel(\"Number of causal genes where rank < x\")\n",
    "matplotlib.pyplot.legend()"
   ]
  },
  {
   "cell_type": "code",
   "execution_count": null,
   "metadata": {},
   "outputs": [],
   "source": [
    "scipy.stats.wilcoxon(ranks_random, ranks_GBA, alternative=\"greater\")"
   ]
  },
  {
   "cell_type": "code",
   "execution_count": null,
   "metadata": {},
   "outputs": [],
   "source": [
    "scipy.stats.wilcoxon(ranks_RWR, ranks_GBA, alternative=\"greater\")"
   ]
  },
  {
   "cell_type": "code",
   "execution_count": null,
   "metadata": {},
   "outputs": [],
   "source": [
    "xs = numpy.linspace(0, max(ranks_RWR), len(ranks_RWR))\n",
    "matplotlib.pyplot.hist([ranks_RWR, ranks_GBA], xs, label=[\"RWR r=0.5\", \"GBA centrality alpha=0.5\"], cumulative=True, color=[\"#1A85FF\", \"#D41159\"])\n",
    "matplotlib.pyplot.title(f\"{PHENOTYPE}\")\n",
    "matplotlib.pyplot.xlabel(\"Rank\")\n",
    "matplotlib.pyplot.ylabel(\"Count\")\n",
    "matplotlib.pyplot.legend()"
   ]
  },
  {
   "cell_type": "code",
   "execution_count": null,
   "metadata": {},
   "outputs": [],
   "source": [
    "matplotlib.pyplot.scatter(x=ranks_RWR, y=ranks_GBA)\n",
    "matplotlib.pyplot.title(f\"Comparison of the left-out gene ranks\\n{PHENOTYPE}\\nGBA centrality vs RWR\")\n",
    "matplotlib.pyplot.xlabel(\"Rank RWR\")\n",
    "matplotlib.pyplot.ylabel(\"Rank GBA centrality\")\n",
    "\n",
    "ticks  = numpy.arange(0, len(interactome), step=2000)\n",
    "ticks[0] = 1\n",
    "ticks = ticks[::-1]\n",
    "\n",
    "matplotlib.pyplot.xticks(ticks, fontsize=8.5)\n",
    "matplotlib.pyplot.yticks(ticks, fontsize=8.5)\n",
    "\n",
    "matplotlib.pyplot.axis('square')\n",
    "\n",
    "matplotlib.pyplot.grid(True, linestyle='--', which='major',\n",
    "                   color='grey', alpha=0.2)"
   ]
  },
  {
   "cell_type": "markdown",
   "metadata": {},
   "source": [
    "### Runtime comparison of GBA centrality and betweenness centrality"
   ]
  },
  {
   "cell_type": "code",
   "execution_count": null,
   "metadata": {},
   "outputs": [],
   "source": [
    "%%capture\n",
    "# networkx.betweenness_centrality(interactome) # 11 min 17 sec"
   ]
  }
 ],
 "metadata": {
  "kernelspec": {
   "display_name": "pyEnv_GBA",
   "language": "python",
   "name": "python3"
  },
  "language_info": {
   "codemirror_mode": {
    "name": "ipython",
    "version": 3
   },
   "file_extension": ".py",
   "mimetype": "text/x-python",
   "name": "python",
   "nbconvert_exporter": "python",
   "pygments_lexer": "ipython3",
   "version": "3.12.5"
  }
 },
 "nbformat": 4,
 "nbformat_minor": 2
}
